{
 "cells": [
  {
   "cell_type": "code",
   "execution_count": 2,
   "metadata": {},
   "outputs": [],
   "source": [
    "import pandas as pd\n",
    "from pandas import Series,DataFrame\n",
    "import numpy as np\n",
    "from numpy.random import randn\n",
    "\n",
    "import matplotlib.pyplot as plt\n",
    "import seaborn as sns\n",
    "sns.set_style('whitegrid')\n",
    "%matplotlib inline\n",
    "\n",
    "\n",
    "import statsmodels.formula.api as smf\n",
    "from sklearn.model_selection import train_test_split\n",
    "import statsmodels.api as sm\n",
    "\n",
    "from sklearn.feature_selection import RFE   \n",
    "\n",
    "from sklearn.neighbors import KNeighborsClassifier\n",
    "\n",
    "from sklearn.naive_bayes import GaussianNB\n",
    "from sklearn import metrics\n",
    "\n",
    "\n",
    "import math\n",
    "from sklearn import tree\n",
    "\n",
    "import sklearn\n",
    "from sklearn.linear_model import LinearRegression\n",
    "from sklearn import linear_model\n",
    "\n",
    "import sklearn.datasets \n",
    "\n",
    "from sklearn.ensemble import RandomForestClassifier\n",
    "from sklearn.tree import DecisionTreeClassifier\n",
    "\n",
    "from sklearn.feature_selection import RFE   # Recursive Feature Elimination\n",
    "from sklearn.svm import SVR                 # Support Vector Regression\n",
    "import sklearn\n",
    "from sklearn.linear_model import LogisticRegression\n",
    "\n",
    "from sklearn.metrics import accuracy_score\n",
    "\n",
    "\n",
    "from sklearn.feature_selection import RFE   # Recursive Feature Elimination\n",
    "from sklearn.svm import SVR                 # Support Vector Regression\n",
    "from sklearn.svm import SVC"
   ]
  },
  {
   "cell_type": "code",
   "execution_count": 3,
   "metadata": {},
   "outputs": [],
   "source": [
    "cancer_data = pd.read_csv('Breast.csv')"
   ]
  },
  {
   "cell_type": "code",
   "execution_count": 4,
   "metadata": {},
   "outputs": [
    {
     "data": {
      "text/html": [
       "<div>\n",
       "<style scoped>\n",
       "    .dataframe tbody tr th:only-of-type {\n",
       "        vertical-align: middle;\n",
       "    }\n",
       "\n",
       "    .dataframe tbody tr th {\n",
       "        vertical-align: top;\n",
       "    }\n",
       "\n",
       "    .dataframe thead th {\n",
       "        text-align: right;\n",
       "    }\n",
       "</style>\n",
       "<table border=\"1\" class=\"dataframe\">\n",
       "  <thead>\n",
       "    <tr style=\"text-align: right;\">\n",
       "      <th></th>\n",
       "      <th>mean_radius</th>\n",
       "      <th>mean_texture</th>\n",
       "      <th>mean_perimeter</th>\n",
       "      <th>mean_area</th>\n",
       "      <th>mean_smoothness</th>\n",
       "      <th>diagnosis</th>\n",
       "    </tr>\n",
       "  </thead>\n",
       "  <tbody>\n",
       "    <tr>\n",
       "      <th>0</th>\n",
       "      <td>17.99</td>\n",
       "      <td>10.38</td>\n",
       "      <td>122.8</td>\n",
       "      <td>1001.0</td>\n",
       "      <td>0.11840</td>\n",
       "      <td>0</td>\n",
       "    </tr>\n",
       "    <tr>\n",
       "      <th>1</th>\n",
       "      <td>20.57</td>\n",
       "      <td>17.77</td>\n",
       "      <td>132.9</td>\n",
       "      <td>1326.0</td>\n",
       "      <td>0.08474</td>\n",
       "      <td>0</td>\n",
       "    </tr>\n",
       "    <tr>\n",
       "      <th>2</th>\n",
       "      <td>19.69</td>\n",
       "      <td>21.25</td>\n",
       "      <td>130.0</td>\n",
       "      <td>1203.0</td>\n",
       "      <td>0.10960</td>\n",
       "      <td>0</td>\n",
       "    </tr>\n",
       "  </tbody>\n",
       "</table>\n",
       "</div>"
      ],
      "text/plain": [
       "   mean_radius  mean_texture  mean_perimeter  mean_area  mean_smoothness  \\\n",
       "0        17.99         10.38           122.8     1001.0          0.11840   \n",
       "1        20.57         17.77           132.9     1326.0          0.08474   \n",
       "2        19.69         21.25           130.0     1203.0          0.10960   \n",
       "\n",
       "   diagnosis  \n",
       "0          0  \n",
       "1          0  \n",
       "2          0  "
      ]
     },
     "execution_count": 4,
     "metadata": {},
     "output_type": "execute_result"
    }
   ],
   "source": [
    "cancer_data.head(3)"
   ]
  },
  {
   "cell_type": "code",
   "execution_count": 5,
   "metadata": {},
   "outputs": [
    {
     "data": {
      "text/html": [
       "<div>\n",
       "<style scoped>\n",
       "    .dataframe tbody tr th:only-of-type {\n",
       "        vertical-align: middle;\n",
       "    }\n",
       "\n",
       "    .dataframe tbody tr th {\n",
       "        vertical-align: top;\n",
       "    }\n",
       "\n",
       "    .dataframe thead th {\n",
       "        text-align: right;\n",
       "    }\n",
       "</style>\n",
       "<table border=\"1\" class=\"dataframe\">\n",
       "  <thead>\n",
       "    <tr style=\"text-align: right;\">\n",
       "      <th></th>\n",
       "      <th>mean_radius</th>\n",
       "      <th>mean_texture</th>\n",
       "      <th>mean_perimeter</th>\n",
       "      <th>mean_area</th>\n",
       "      <th>mean_smoothness</th>\n",
       "      <th>diagnosis</th>\n",
       "    </tr>\n",
       "  </thead>\n",
       "  <tbody>\n",
       "    <tr>\n",
       "      <th>0</th>\n",
       "      <td>17</td>\n",
       "      <td>10</td>\n",
       "      <td>122</td>\n",
       "      <td>1001</td>\n",
       "      <td>0</td>\n",
       "      <td>0</td>\n",
       "    </tr>\n",
       "    <tr>\n",
       "      <th>1</th>\n",
       "      <td>20</td>\n",
       "      <td>17</td>\n",
       "      <td>132</td>\n",
       "      <td>1326</td>\n",
       "      <td>0</td>\n",
       "      <td>0</td>\n",
       "    </tr>\n",
       "  </tbody>\n",
       "</table>\n",
       "</div>"
      ],
      "text/plain": [
       "   mean_radius  mean_texture  mean_perimeter  mean_area  mean_smoothness  \\\n",
       "0           17            10             122       1001                0   \n",
       "1           20            17             132       1326                0   \n",
       "\n",
       "   diagnosis  \n",
       "0          0  \n",
       "1          0  "
      ]
     },
     "execution_count": 5,
     "metadata": {},
     "output_type": "execute_result"
    }
   ],
   "source": [
    "#lets convert our float to integers\n",
    "\n",
    "cols = ['mean_radius', 'mean_texture', 'mean_perimeter', 'mean_area', 'mean_smoothness' ]\n",
    "cancer_data[cols] = cancer_data[cols].applymap(np.int64)\n",
    "cancer_data.head(2)"
   ]
  },
  {
   "cell_type": "code",
   "execution_count": 6,
   "metadata": {},
   "outputs": [],
   "source": [
    "def student(diagnosis):\n",
    "   \n",
    "    if ( diagnosis== 0 ):\n",
    "        return ('no')\n",
    "    else: \n",
    "        return ('yes')\n",
    "\n",
    "cancer_data['i_have_cancer'] = cancer_data['diagnosis'].apply(student)"
   ]
  },
  {
   "cell_type": "code",
   "execution_count": 7,
   "metadata": {},
   "outputs": [
    {
     "data": {
      "text/html": [
       "<div>\n",
       "<style scoped>\n",
       "    .dataframe tbody tr th:only-of-type {\n",
       "        vertical-align: middle;\n",
       "    }\n",
       "\n",
       "    .dataframe tbody tr th {\n",
       "        vertical-align: top;\n",
       "    }\n",
       "\n",
       "    .dataframe thead th {\n",
       "        text-align: right;\n",
       "    }\n",
       "</style>\n",
       "<table border=\"1\" class=\"dataframe\">\n",
       "  <thead>\n",
       "    <tr style=\"text-align: right;\">\n",
       "      <th></th>\n",
       "      <th>mean_radius</th>\n",
       "      <th>mean_texture</th>\n",
       "      <th>mean_perimeter</th>\n",
       "      <th>mean_area</th>\n",
       "      <th>mean_smoothness</th>\n",
       "      <th>diagnosis</th>\n",
       "      <th>i_have_cancer</th>\n",
       "    </tr>\n",
       "  </thead>\n",
       "  <tbody>\n",
       "    <tr>\n",
       "      <th>562</th>\n",
       "      <td>15</td>\n",
       "      <td>30</td>\n",
       "      <td>103</td>\n",
       "      <td>716</td>\n",
       "      <td>0</td>\n",
       "      <td>0</td>\n",
       "      <td>no</td>\n",
       "    </tr>\n",
       "    <tr>\n",
       "      <th>563</th>\n",
       "      <td>20</td>\n",
       "      <td>25</td>\n",
       "      <td>143</td>\n",
       "      <td>1347</td>\n",
       "      <td>0</td>\n",
       "      <td>0</td>\n",
       "      <td>no</td>\n",
       "    </tr>\n",
       "    <tr>\n",
       "      <th>564</th>\n",
       "      <td>21</td>\n",
       "      <td>22</td>\n",
       "      <td>142</td>\n",
       "      <td>1479</td>\n",
       "      <td>0</td>\n",
       "      <td>0</td>\n",
       "      <td>no</td>\n",
       "    </tr>\n",
       "    <tr>\n",
       "      <th>565</th>\n",
       "      <td>20</td>\n",
       "      <td>28</td>\n",
       "      <td>131</td>\n",
       "      <td>1261</td>\n",
       "      <td>0</td>\n",
       "      <td>0</td>\n",
       "      <td>no</td>\n",
       "    </tr>\n",
       "    <tr>\n",
       "      <th>566</th>\n",
       "      <td>16</td>\n",
       "      <td>28</td>\n",
       "      <td>108</td>\n",
       "      <td>858</td>\n",
       "      <td>0</td>\n",
       "      <td>0</td>\n",
       "      <td>no</td>\n",
       "    </tr>\n",
       "    <tr>\n",
       "      <th>567</th>\n",
       "      <td>20</td>\n",
       "      <td>29</td>\n",
       "      <td>140</td>\n",
       "      <td>1265</td>\n",
       "      <td>0</td>\n",
       "      <td>0</td>\n",
       "      <td>no</td>\n",
       "    </tr>\n",
       "    <tr>\n",
       "      <th>568</th>\n",
       "      <td>7</td>\n",
       "      <td>24</td>\n",
       "      <td>47</td>\n",
       "      <td>181</td>\n",
       "      <td>0</td>\n",
       "      <td>1</td>\n",
       "      <td>yes</td>\n",
       "    </tr>\n",
       "  </tbody>\n",
       "</table>\n",
       "</div>"
      ],
      "text/plain": [
       "     mean_radius  mean_texture  mean_perimeter  mean_area  mean_smoothness  \\\n",
       "562           15            30             103        716                0   \n",
       "563           20            25             143       1347                0   \n",
       "564           21            22             142       1479                0   \n",
       "565           20            28             131       1261                0   \n",
       "566           16            28             108        858                0   \n",
       "567           20            29             140       1265                0   \n",
       "568            7            24              47        181                0   \n",
       "\n",
       "     diagnosis i_have_cancer  \n",
       "562          0            no  \n",
       "563          0            no  \n",
       "564          0            no  \n",
       "565          0            no  \n",
       "566          0            no  \n",
       "567          0            no  \n",
       "568          1           yes  "
      ]
     },
     "execution_count": 7,
     "metadata": {},
     "output_type": "execute_result"
    }
   ],
   "source": [
    "cancer_data.tail(7)"
   ]
  },
  {
   "cell_type": "code",
   "execution_count": 8,
   "metadata": {},
   "outputs": [
    {
     "name": "stdout",
     "output_type": "stream",
     "text": [
      "('dataset lenght::', (569, 7))\n"
     ]
    }
   ],
   "source": [
    "print('dataset lenght::', cancer_data.shape)"
   ]
  },
  {
   "cell_type": "code",
   "execution_count": 9,
   "metadata": {},
   "outputs": [],
   "source": [
    "cancer_data.drop(columns=['i_have_cancer'], inplace=True)"
   ]
  },
  {
   "cell_type": "code",
   "execution_count": null,
   "metadata": {},
   "outputs": [],
   "source": []
  },
  {
   "cell_type": "code",
   "execution_count": null,
   "metadata": {},
   "outputs": [],
   "source": []
  },
  {
   "cell_type": "markdown",
   "metadata": {},
   "source": [
    "# data prediction.\n",
    "training and testing"
   ]
  },
  {
   "cell_type": "code",
   "execution_count": 10,
   "metadata": {},
   "outputs": [],
   "source": [
    "#our x and y data\n",
    "\n",
    "\n",
    "X = cancer_data.values[:, 1:5]\n",
    "Y = cancer_data.values[:, 0]\n",
    "\n"
   ]
  },
  {
   "cell_type": "code",
   "execution_count": 11,
   "metadata": {},
   "outputs": [],
   "source": [
    "#our training and testing set\n",
    "\n",
    "\n",
    "X_train, X_test, y_train, y_test = train_test_split(X, Y, test_size=0.3, random_state=100)\n",
    "\n",
    "\n",
    "\n",
    "\n",
    "\n",
    "\n",
    "\n"
   ]
  },
  {
   "cell_type": "markdown",
   "metadata": {},
   "source": [
    "# DecisionTreeClassifier"
   ]
  },
  {
   "cell_type": "code",
   "execution_count": 12,
   "metadata": {},
   "outputs": [
    {
     "data": {
      "text/plain": [
       "DecisionTreeClassifier(class_weight=None, criterion='entropy', max_depth=3,\n",
       "            max_features=None, max_leaf_nodes=None,\n",
       "            min_impurity_decrease=0.0, min_impurity_split=None,\n",
       "            min_samples_leaf=5, min_samples_split=2,\n",
       "            min_weight_fraction_leaf=0.0, presort=False, random_state=100,\n",
       "            splitter='best')"
      ]
     },
     "execution_count": 12,
     "metadata": {},
     "output_type": "execute_result"
    }
   ],
   "source": [
    "\n",
    "dtree_model = DecisionTreeClassifier(criterion = 'entropy', random_state=100, max_depth=3, min_samples_leaf= 5)\n",
    "dtree_model.fit(X_train,y_train)\n"
   ]
  },
  {
   "cell_type": "code",
   "execution_count": null,
   "metadata": {},
   "outputs": [],
   "source": []
  },
  {
   "cell_type": "code",
   "execution_count": 13,
   "metadata": {},
   "outputs": [
    {
     "data": {
      "text/plain": [
       "array([17, 14, 18, 11, 12, 11, 18, 18, 13, 11, 10, 17, 18, 18, 13, 14, 14,\n",
       "       13, 10, 11, 17, 12, 17, 18, 11, 17, 11, 10, 11, 12, 11, 11, 14, 14,\n",
       "       18, 11, 13, 12, 10, 18, 14, 12, 11, 14, 13, 13, 11, 10, 11, 10, 14,\n",
       "       10, 13, 17, 11, 13, 13, 11, 10, 11, 18, 17, 12, 11, 17, 13, 18, 18,\n",
       "       12, 18, 18, 13, 13, 18, 11, 14, 17, 18, 18, 12, 14, 14, 17, 17, 10,\n",
       "       18, 18, 11, 18, 11, 11, 12, 13, 18, 11, 14, 14, 11, 18, 14, 14, 18,\n",
       "       12, 12, 14, 13, 10, 14, 10, 10, 17, 13, 18, 10, 13, 12, 14, 11, 12,\n",
       "       11, 18, 12, 11, 18, 13, 11, 13, 14, 12, 11, 10, 12, 18, 11, 13, 17,\n",
       "       11, 14, 11, 12, 14, 18, 13, 12, 13, 10, 11, 14, 18, 10, 14, 13, 13,\n",
       "       18, 14, 14, 14, 18, 10, 13, 10, 14, 13, 14, 10, 11, 13, 13, 13, 18,\n",
       "       13], dtype=int64)"
      ]
     },
     "execution_count": 13,
     "metadata": {},
     "output_type": "execute_result"
    }
   ],
   "source": [
    "y_prediction_score = dtree_model.predict(X_test)\n",
    "y_prediction_score"
   ]
  },
  {
   "cell_type": "code",
   "execution_count": 14,
   "metadata": {},
   "outputs": [
    {
     "name": "stdout",
     "output_type": "stream",
     "text": [
      "('accuracy is', 0.6081871345029239)\n"
     ]
    }
   ],
   "source": [
    "print ('accuracy is', accuracy_score(y_test, y_prediction_score))"
   ]
  },
  {
   "cell_type": "markdown",
   "metadata": {},
   "source": [
    "# LogisticRegression"
   ]
  },
  {
   "cell_type": "code",
   "execution_count": 15,
   "metadata": {},
   "outputs": [
    {
     "name": "stderr",
     "output_type": "stream",
     "text": [
      "C:\\Users\\ericksen\\Anaconda2anacon\\lib\\site-packages\\sklearn\\linear_model\\logistic.py:433: FutureWarning: Default solver will be changed to 'lbfgs' in 0.22. Specify a solver to silence this warning.\n",
      "  FutureWarning)\n",
      "C:\\Users\\ericksen\\Anaconda2anacon\\lib\\site-packages\\sklearn\\linear_model\\logistic.py:460: FutureWarning: Default multi_class will be changed to 'auto' in 0.22. Specify the multi_class option to silence this warning.\n",
      "  \"this warning.\", FutureWarning)\n"
     ]
    },
    {
     "data": {
      "text/plain": [
       "LogisticRegression(C=1.0, class_weight=None, dual=False, fit_intercept=True,\n",
       "          intercept_scaling=1, max_iter=100, multi_class='warn',\n",
       "          n_jobs=None, penalty='l2', random_state=None, solver='warn',\n",
       "          tol=0.0001, verbose=0, warm_start=False)"
      ]
     },
     "execution_count": 15,
     "metadata": {},
     "output_type": "execute_result"
    }
   ],
   "source": [
    "\n",
    "log_model = LogisticRegression()\n",
    "log_model.fit(X,Y)"
   ]
  },
  {
   "cell_type": "code",
   "execution_count": 16,
   "metadata": {},
   "outputs": [
    {
     "data": {
      "text/plain": [
       "0.4305799648506151"
      ]
     },
     "execution_count": 16,
     "metadata": {},
     "output_type": "execute_result"
    }
   ],
   "source": [
    "log_model.score(X,Y)"
   ]
  },
  {
   "cell_type": "markdown",
   "metadata": {},
   "source": [
    "# KNeighborsClassifier"
   ]
  },
  {
   "cell_type": "code",
   "execution_count": 17,
   "metadata": {},
   "outputs": [],
   "source": [
    "\n",
    "\n",
    "knn_model = KNeighborsClassifier(n_neighbors = 6)\n",
    "\n",
    "knn_model.fit(X_train,y_train)\n",
    "\n",
    "Y_pred = knn_model.predict(X_test)\n",
    "\n"
   ]
  },
  {
   "cell_type": "code",
   "execution_count": 18,
   "metadata": {},
   "outputs": [
    {
     "data": {
      "text/plain": [
       "array([17, 14, 20, 11, 12, 11, 18, 20, 13, 11,  8, 16, 21, 19, 13, 15, 15,\n",
       "       13,  9, 11, 16, 12, 16, 19, 11, 16, 11,  9, 11, 12, 11, 11, 14, 15,\n",
       "       20, 11, 13, 12, 10, 21, 14, 12, 10, 14, 13, 13, 11,  9, 11,  9, 15,\n",
       "        9, 13, 17, 11, 13, 13, 11,  9, 11, 20, 17, 12, 11, 17, 13, 19, 23,\n",
       "       12, 20, 20, 13, 13, 21, 11, 14, 16, 19, 19, 12, 14, 15, 17, 16,  9,\n",
       "       18, 24, 11, 20, 11, 11, 12, 13, 20, 11, 14, 15, 11, 19, 15, 15, 20,\n",
       "       12, 12, 14, 13,  9, 15, 10,  9, 17, 13, 18,  9, 13, 12, 15, 11, 12,\n",
       "       11, 19, 12, 11, 19, 12, 11, 13, 15, 12, 10, 10, 12, 19, 11, 13, 16,\n",
       "       11, 14, 11, 12, 14, 19, 13, 12, 13, 10, 11, 15, 20, 10, 14, 13, 13,\n",
       "       19, 14, 15, 14, 21,  8, 12, 10, 14, 13, 14,  9, 11, 13, 13, 13, 19,\n",
       "       13], dtype=int64)"
      ]
     },
     "execution_count": 18,
     "metadata": {},
     "output_type": "execute_result"
    }
   ],
   "source": [
    "Y_pred"
   ]
  },
  {
   "cell_type": "code",
   "execution_count": 19,
   "metadata": {},
   "outputs": [
    {
     "data": {
      "text/plain": [
       "0.9156414762741653"
      ]
     },
     "execution_count": 19,
     "metadata": {},
     "output_type": "execute_result"
    }
   ],
   "source": [
    "knn_model.score(X,Y)"
   ]
  },
  {
   "cell_type": "markdown",
   "metadata": {},
   "source": [
    "# naive_bayes_model"
   ]
  },
  {
   "cell_type": "code",
   "execution_count": 20,
   "metadata": {},
   "outputs": [
    {
     "data": {
      "text/plain": [
       "GaussianNB(priors=None, var_smoothing=1e-09)"
      ]
     },
     "execution_count": 20,
     "metadata": {},
     "output_type": "execute_result"
    }
   ],
   "source": [
    "\n",
    "naive_bayes_model = GaussianNB()\n",
    "naive_bayes_model.fit(X_train,y_train)\n"
   ]
  },
  {
   "cell_type": "code",
   "execution_count": 21,
   "metadata": {},
   "outputs": [],
   "source": [
    "\n",
    "\n",
    "predicted = naive_bayes_model.predict(X_test)\n",
    "\n",
    "expected = y_test\n"
   ]
  },
  {
   "cell_type": "code",
   "execution_count": 22,
   "metadata": {},
   "outputs": [
    {
     "name": "stdout",
     "output_type": "stream",
     "text": [
      "0.8713450292397661\n"
     ]
    }
   ],
   "source": [
    "\n",
    "\n",
    "print metrics.accuracy_score(expected, predicted)\n",
    "\n"
   ]
  },
  {
   "cell_type": "markdown",
   "metadata": {},
   "source": [
    "# Support Vector model"
   ]
  },
  {
   "cell_type": "code",
   "execution_count": 23,
   "metadata": {},
   "outputs": [
    {
     "name": "stderr",
     "output_type": "stream",
     "text": [
      "C:\\Users\\ericksen\\Anaconda2anacon\\lib\\site-packages\\sklearn\\svm\\base.py:196: FutureWarning: The default value of gamma will change from 'auto' to 'scale' in version 0.22 to account better for unscaled features. Set gamma explicitly to 'auto' or 'scale' to avoid this warning.\n",
      "  \"avoid this warning.\", FutureWarning)\n"
     ]
    },
    {
     "data": {
      "text/plain": [
       "SVC(C=1.0, cache_size=200, class_weight=None, coef0=0.0,\n",
       "  decision_function_shape='ovr', degree=3, gamma='auto_deprecated',\n",
       "  kernel='rbf', max_iter=-1, probability=False, random_state=None,\n",
       "  shrinking=True, tol=0.001, verbose=False)"
      ]
     },
     "execution_count": 23,
     "metadata": {},
     "output_type": "execute_result"
    }
   ],
   "source": [
    "\n",
    "vect_model = SVC()\n",
    "\n",
    "vect_model.fit(X_train,y_train)\n"
   ]
  },
  {
   "cell_type": "code",
   "execution_count": null,
   "metadata": {},
   "outputs": [],
   "source": [
    "\n"
   ]
  },
  {
   "cell_type": "code",
   "execution_count": 24,
   "metadata": {},
   "outputs": [],
   "source": [
    "\n",
    "predicted = vect_model.predict(X_test)\n",
    "expected = y_test\n"
   ]
  },
  {
   "cell_type": "code",
   "execution_count": 25,
   "metadata": {},
   "outputs": [
    {
     "name": "stdout",
     "output_type": "stream",
     "text": [
      "0.3684210526315789\n"
     ]
    }
   ],
   "source": [
    "print metrics.accuracy_score(expected,predicted)"
   ]
  },
  {
   "cell_type": "code",
   "execution_count": 26,
   "metadata": {},
   "outputs": [
    {
     "data": {
      "text/plain": [
       "RandomForestClassifier(bootstrap=True, class_weight=None, criterion='gini',\n",
       "            max_depth=7, max_features=2, max_leaf_nodes=None,\n",
       "            min_impurity_decrease=0.0, min_impurity_split=None,\n",
       "            min_samples_leaf=1, min_samples_split=25,\n",
       "            min_weight_fraction_leaf=0.0, n_estimators=100, n_jobs=None,\n",
       "            oob_score=False, random_state=None, verbose=0,\n",
       "            warm_start=False)"
      ]
     },
     "execution_count": 26,
     "metadata": {},
     "output_type": "execute_result"
    }
   ],
   "source": [
    "\n",
    "rand_forest = RandomForestClassifier(n_estimators=100,min_samples_split=25, max_depth=7, max_features=2)\n",
    "rand_forest.fit(X_train,y_train)\n"
   ]
  },
  {
   "cell_type": "code",
   "execution_count": 27,
   "metadata": {},
   "outputs": [
    {
     "name": "stdout",
     "output_type": "stream",
     "text": [
      "0.3684210526315789\n"
     ]
    }
   ],
   "source": [
    "print metrics.accuracy_score(expected,predicted)"
   ]
  },
  {
   "cell_type": "code",
   "execution_count": null,
   "metadata": {},
   "outputs": [],
   "source": []
  },
  {
   "cell_type": "code",
   "execution_count": 28,
   "metadata": {},
   "outputs": [
    {
     "data": {
      "text/html": [
       "<div>\n",
       "<style scoped>\n",
       "    .dataframe tbody tr th:only-of-type {\n",
       "        vertical-align: middle;\n",
       "    }\n",
       "\n",
       "    .dataframe tbody tr th {\n",
       "        vertical-align: top;\n",
       "    }\n",
       "\n",
       "    .dataframe thead th {\n",
       "        text-align: right;\n",
       "    }\n",
       "</style>\n",
       "<table border=\"1\" class=\"dataframe\">\n",
       "  <thead>\n",
       "    <tr style=\"text-align: right;\">\n",
       "      <th></th>\n",
       "      <th>mean_radius</th>\n",
       "      <th>mean_texture</th>\n",
       "      <th>mean_perimeter</th>\n",
       "      <th>mean_area</th>\n",
       "      <th>mean_smoothness</th>\n",
       "      <th>diagnosis</th>\n",
       "    </tr>\n",
       "  </thead>\n",
       "  <tbody>\n",
       "    <tr>\n",
       "      <th>mean_radius</th>\n",
       "      <td>1.000000</td>\n",
       "      <td>0.326901</td>\n",
       "      <td>0.994743</td>\n",
       "      <td>0.984391</td>\n",
       "      <td>NaN</td>\n",
       "      <td>-0.729388</td>\n",
       "    </tr>\n",
       "    <tr>\n",
       "      <th>mean_texture</th>\n",
       "      <td>0.326901</td>\n",
       "      <td>1.000000</td>\n",
       "      <td>0.329254</td>\n",
       "      <td>0.321179</td>\n",
       "      <td>NaN</td>\n",
       "      <td>-0.413581</td>\n",
       "    </tr>\n",
       "    <tr>\n",
       "      <th>mean_perimeter</th>\n",
       "      <td>0.994743</td>\n",
       "      <td>0.329254</td>\n",
       "      <td>1.000000</td>\n",
       "      <td>0.986381</td>\n",
       "      <td>NaN</td>\n",
       "      <td>-0.742675</td>\n",
       "    </tr>\n",
       "    <tr>\n",
       "      <th>mean_area</th>\n",
       "      <td>0.984391</td>\n",
       "      <td>0.321179</td>\n",
       "      <td>0.986381</td>\n",
       "      <td>1.000000</td>\n",
       "      <td>NaN</td>\n",
       "      <td>-0.708948</td>\n",
       "    </tr>\n",
       "    <tr>\n",
       "      <th>mean_smoothness</th>\n",
       "      <td>NaN</td>\n",
       "      <td>NaN</td>\n",
       "      <td>NaN</td>\n",
       "      <td>NaN</td>\n",
       "      <td>NaN</td>\n",
       "      <td>NaN</td>\n",
       "    </tr>\n",
       "    <tr>\n",
       "      <th>diagnosis</th>\n",
       "      <td>-0.729388</td>\n",
       "      <td>-0.413581</td>\n",
       "      <td>-0.742675</td>\n",
       "      <td>-0.708948</td>\n",
       "      <td>NaN</td>\n",
       "      <td>1.000000</td>\n",
       "    </tr>\n",
       "  </tbody>\n",
       "</table>\n",
       "</div>"
      ],
      "text/plain": [
       "                 mean_radius  mean_texture  mean_perimeter  mean_area  \\\n",
       "mean_radius         1.000000      0.326901        0.994743   0.984391   \n",
       "mean_texture        0.326901      1.000000        0.329254   0.321179   \n",
       "mean_perimeter      0.994743      0.329254        1.000000   0.986381   \n",
       "mean_area           0.984391      0.321179        0.986381   1.000000   \n",
       "mean_smoothness          NaN           NaN             NaN        NaN   \n",
       "diagnosis          -0.729388     -0.413581       -0.742675  -0.708948   \n",
       "\n",
       "                 mean_smoothness  diagnosis  \n",
       "mean_radius                  NaN  -0.729388  \n",
       "mean_texture                 NaN  -0.413581  \n",
       "mean_perimeter               NaN  -0.742675  \n",
       "mean_area                    NaN  -0.708948  \n",
       "mean_smoothness              NaN        NaN  \n",
       "diagnosis                    NaN   1.000000  "
      ]
     },
     "execution_count": 28,
     "metadata": {},
     "output_type": "execute_result"
    }
   ],
   "source": [
    "#correlation\n",
    "\n",
    "cancer_data.corr()"
   ]
  },
  {
   "cell_type": "code",
   "execution_count": null,
   "metadata": {},
   "outputs": [],
   "source": []
  },
  {
   "cell_type": "code",
   "execution_count": null,
   "metadata": {},
   "outputs": [],
   "source": []
  },
  {
   "cell_type": "code",
   "execution_count": 29,
   "metadata": {},
   "outputs": [],
   "source": [
    "#lets create a function for our models\n",
    "\n",
    "def models (X_train, y_train):\n",
    "    \n",
    "    #logisticRegression model\n",
    "    \n",
    "    log_model =LogisticRegression()\n",
    "    log_model.fit(X,Y)\n",
    "    \n",
    "    #DecisionTreeClassifier\n",
    "    \n",
    "    dtree_model = DecisionTreeClassifier(criterion = 'entropy', random_state=100, max_depth=3, min_samples_leaf= 5)\n",
    "    dtree_model.fit(X_train,y_train)\n",
    "    \n",
    "    \n",
    "    #KNeighborsClassifier\n",
    "    \n",
    "    knn_model = KNeighborsClassifier(n_neighbors = 6)\n",
    "    knn_model.fit(X_train,y_train)\n",
    "    \n",
    "    \n",
    "    #naive_bayes_model\n",
    "    \n",
    "    naive_bayes_model = GaussianNB()\n",
    "    naive_bayes_model.fit(X_train,y_train)\n",
    "    \n",
    "    \n",
    "    #vect_model\n",
    "    \n",
    "    vect_model = SVC()\n",
    "    vect_model.fit(X_train,y_train)\n",
    "    \n",
    "    \n",
    "    #RandomForestClassifier\n",
    "    \n",
    "    rand_forest = RandomForestClassifier(n_estimators=100,min_samples_split=25, max_depth=7, max_features=2)\n",
    "    rand_forest.fit(X_train,y_train)\n",
    "    \n",
    "\n",
    "    \n",
    "    \n",
    "#lets get all of the model        \n",
    "\n",
    "model  = models(X_train, y_train)"
   ]
  },
  {
   "cell_type": "code",
   "execution_count": 30,
   "metadata": {},
   "outputs": [
    {
     "name": "stdout",
     "output_type": "stream",
     "text": [
      "('[0] logistic regression training accuracy:', 0.4321608040201005)\n",
      "('[1] KNeighborsClassifier training accuracy:', 0.9120603015075377)\n",
      "('[2] naive_bayes training accuracy:', 0.9271356783919598)\n",
      "('[3] random forest  training accuracy:', 0.8969849246231156)\n",
      "('[4] decision tree  training accuracy:', 0.7010050251256281)\n",
      "('[5] vect_model  training accuracy:', 0.9974874371859297)\n"
     ]
    },
    {
     "ename": "SyntaxError",
     "evalue": "'return' outside function (<ipython-input-30-d407bafafb0a>, line 12)",
     "output_type": "error",
     "traceback": [
      "\u001b[1;36m  File \u001b[1;32m\"<ipython-input-30-d407bafafb0a>\"\u001b[1;36m, line \u001b[1;32m12\u001b[0m\n\u001b[1;33m    return log_model, knn_model, naive_bayes_model, rand_forest, dtree_model, vect_model\u001b[0m\n\u001b[1;31mSyntaxError\u001b[0m\u001b[1;31m:\u001b[0m 'return' outside function\n"
     ]
    }
   ],
   "source": [
    "#lets print the model accuracy on the training data\n",
    "\n",
    "\n",
    "print('[0] logistic regression training accuracy:',  log_model.score(X_train, y_train) )\n",
    "print('[1] KNeighborsClassifier training accuracy:', knn_model.score(X_train, y_train) )\n",
    "print('[2] naive_bayes training accuracy:',  naive_bayes_model.score(X_train, y_train) )\n",
    "print('[3] random forest  training accuracy:',     rand_forest.score(X_train, y_train) )\n",
    "print('[4] decision tree  training accuracy:',     dtree_model.score(X_train, y_train) )\n",
    "print('[5] vect_model  training accuracy:',         vect_model.score(X_train, y_train) )\n",
    "\n",
    "\n",
    "return log_model, knn_model, naive_bayes_model, rand_forest, dtree_model, vect_model"
   ]
  },
  {
   "cell_type": "markdown",
   "metadata": {},
   "source": [
    "now you can see how  all our model accuracy was. starting from logistic regression to vector model. from the model prediction score, we can see that vector model has the highest accuracy score, which is very nice. "
   ]
  },
  {
   "cell_type": "code",
   "execution_count": null,
   "metadata": {},
   "outputs": [],
   "source": [
    "#now lets test our model on the testing data\n",
    "\n",
    "\n",
    "#we will use confussion metrics here\n",
    "\n",
    "from sklearn.metrics import confusion_matrix\n",
    "\n",
    "from sklearn.metrics import classification_report\n",
    "\n",
    "\n",
    "cm = confusion_matrix(y_test, model[0].y_prediction_score(X_test))\n"
   ]
  },
  {
   "cell_type": "markdown",
   "metadata": {},
   "source": [
    "print (classification_report(y_test, model[0].predict(X_test)))\n",
    "print (accuracy_score(y_test, model[0].predict(X_test)))"
   ]
  },
  {
   "cell_type": "markdown",
   "metadata": {},
   "source": [
    "Where TP: Correctly classified as having breast cancer\n",
    "TN: Correctly classified as not having breast cancer.\n",
    "FP: Classified as having breast cancer but actually they don’t have (Error of type I)\n",
    "FN: Classified as not having breast cancer but actually they have cancer. (Error of type II)"
   ]
  },
  {
   "cell_type": "markdown",
   "metadata": {},
   "source": [
    "up is what out model predict, which are the petient, to know whether or not they have cancer\n",
    "\n",
    "and the down part are the actual value of the patient, showing whether they have cancer or not\n",
    "\n",
    "from the up, the model made a mix classification, from the other, the patient did have cancer. the patient did have cancer\n",
    "\n",
    "we can see that the model is not perfect. from the prediction, we can say that the accuracy is not perfect enough since we are dealing with human lives. what we need is 99% accuracy or above.\n"
   ]
  },
  {
   "cell_type": "code",
   "execution_count": null,
   "metadata": {},
   "outputs": [],
   "source": [
    "cancer_data.median()"
   ]
  },
  {
   "cell_type": "code",
   "execution_count": null,
   "metadata": {},
   "outputs": [],
   "source": [
    "cancer_data.describe()"
   ]
  },
  {
   "cell_type": "code",
   "execution_count": null,
   "metadata": {},
   "outputs": [],
   "source": [
    "#Lets compare the diagnosis by those who have cancer and not\n",
    "\n",
    "\n",
    "cancer_data.groupby(['diagnosis']).agg(['min','median','max'])"
   ]
  },
  {
   "cell_type": "code",
   "execution_count": null,
   "metadata": {},
   "outputs": [],
   "source": [
    "#Lets check the Effect of mean_texture on diagnosis\n",
    "\n",
    "\n",
    "cancer_data[[ 'diagnosis', 'mean_texture', 'mean_area']].groupby(['diagnosis']).agg('median')"
   ]
  },
  {
   "cell_type": "code",
   "execution_count": null,
   "metadata": {},
   "outputs": [],
   "source": []
  },
  {
   "cell_type": "code",
   "execution_count": null,
   "metadata": {},
   "outputs": [],
   "source": [
    "#lets cfreate a function for our prediction out come\n",
    "\n",
    "\n",
    "def my_function():\n",
    "    print(  log_model.score(X_train, y_train) )\n",
    "    print( knn_model.score(X_train, y_train) )\n",
    "    print( naive_bayes_model.score(X_train, y_train) )\n",
    "    print(     rand_forest.score(X_train, y_train) )\n",
    "    print(     dtree_model.score(X_train, y_train) )\n",
    "    print(      vect_model.score(X_train, y_train) )\n"
   ]
  },
  {
   "cell_type": "code",
   "execution_count": null,
   "metadata": {},
   "outputs": [],
   "source": [
    "my_function()"
   ]
  },
  {
   "cell_type": "code",
   "execution_count": null,
   "metadata": {},
   "outputs": [],
   "source": [
    "#lets create a dataframe of our function\n",
    "\n",
    "prediction_out_come= DataFrame({'log_model':[0.4321608040201005], 'knn_model': [0.9120603015075377],\n",
    "    'naive_bayes_model':[0.9271356783919598], 'rand_forest':[0.9020100502512562], 'dtree_model': [0.7010050251256281],\n",
    "                 'vect_model': [0.9974874371859297],})"
   ]
  },
  {
   "cell_type": "code",
   "execution_count": null,
   "metadata": {},
   "outputs": [],
   "source": [
    "prediction_out_come"
   ]
  },
  {
   "cell_type": "code",
   "execution_count": null,
   "metadata": {},
   "outputs": [],
   "source": [
    "#our prediction outcome plot\n",
    "\n",
    "prediction_out_come.iplot(kind='bar')"
   ]
  },
  {
   "cell_type": "code",
   "execution_count": null,
   "metadata": {},
   "outputs": [],
   "source": []
  },
  {
   "cell_type": "code",
   "execution_count": null,
   "metadata": {},
   "outputs": [],
   "source": [
    "prediction_out_come.iplot(kind='box')"
   ]
  },
  {
   "cell_type": "markdown",
   "metadata": {},
   "source": [
    "prediction_out_come.plot(kind='bar')"
   ]
  }
 ],
 "metadata": {
  "kernelspec": {
   "display_name": "Python 3",
   "language": "python",
   "name": "python3"
  },
  "language_info": {
   "codemirror_mode": {
    "name": "ipython",
    "version": 3
   },
   "file_extension": ".py",
   "mimetype": "text/x-python",
   "name": "python",
   "nbconvert_exporter": "python",
   "pygments_lexer": "ipython3",
   "version": "3.8.5"
  }
 },
 "nbformat": 4,
 "nbformat_minor": 2
}
