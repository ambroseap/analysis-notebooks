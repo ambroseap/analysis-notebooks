{
 "cells": [
  {
   "cell_type": "code",
   "execution_count": 1,
   "metadata": {},
   "outputs": [],
   "source": [
    "import pandas as pd\n",
    "import numpy as np\n",
    "import seaborn as sns\n",
    "import matplotlib.pyplot as plt \n",
    "%matplotlib inline"
   ]
  },
  {
   "cell_type": "code",
   "execution_count": 3,
   "metadata": {},
   "outputs": [],
   "source": [
    "from plotly.offline import iplot \n",
    "import plotly as py\n",
    "import plotly.tools as tls\n",
    "import cufflinks as cf"
   ]
  },
  {
   "cell_type": "code",
   "execution_count": 4,
   "metadata": {},
   "outputs": [
    {
     "name": "stdout",
     "output_type": "stream",
     "text": [
      "Help on method _iplot in module cufflinks.plotlytools:\n",
      "\n",
      "_iplot(self, kind='scatter', data=None, layout=None, filename='', sharing=None, title='', xTitle='', yTitle='', zTitle='', theme=None, colors=None, colorscale=None, fill=False, width=None, dash='solid', mode='', interpolation='linear', symbol='circle', size=12, barmode='', sortbars=False, bargap=None, bargroupgap=None, bins=None, histnorm='', histfunc='count', orientation='v', boxpoints=False, annotations=None, keys=False, bestfit=False, bestfit_colors=None, mean=False, mean_colors=None, categories='', x='', y='', z='', text='', gridcolor=None, zerolinecolor=None, margin=None, labels=None, values=None, secondary_y='', secondary_y_title='', subplots=False, shape=None, error_x=None, error_y=None, error_type='data', locations=None, lon=None, lat=None, asFrame=False, asDates=False, asFigure=False, asImage=False, dimensions=None, asPlot=False, asUrl=False, online=None, **kwargs) method of pandas.core.frame.DataFrame instance\n",
      "           Returns a plotly chart either as inline chart, image of Figure object\n",
      "    \n",
      "           Parameters:\n",
      "           -----------\n",
      "                   kind : string\n",
      "                           Kind of chart\n",
      "                                   scatter\n",
      "                                   bar\n",
      "                                   box\n",
      "                                   spread\n",
      "                                   ratio\n",
      "                                   heatmap\n",
      "                                   surface\n",
      "                                   histogram\n",
      "                                   bubble\n",
      "                                   bubble3d\n",
      "                                   scatter3d       \n",
      "                                   scattergeo\n",
      "                                   ohlc\n",
      "                                   candle\n",
      "                                   pie\n",
      "                                   choroplet       \n",
      "                   data : Data\n",
      "                           Plotly Data Object.\n",
      "                           If not entered then the Data object will be automatically\n",
      "                           generated from the DataFrame.\n",
      "                   layout : Layout\n",
      "                           Plotly layout Object\n",
      "                           If not entered then the Layout objet will be automatically\n",
      "                           generated from the DataFrame.\n",
      "                   filename : string\n",
      "                           Filename to be saved as in plotly account\n",
      "                   sharing : string\n",
      "                           Sets the sharing level permission\n",
      "                                   public - anyone can see this chart\n",
      "                                   private - only you can see this chart\n",
      "                                   secret - only people with the link can see the chart\n",
      "                   title : string\n",
      "                           Chart Title                             \n",
      "                   xTitle : string\n",
      "                           X Axis Title\n",
      "                   yTitle : string\n",
      "                           Y Axis Title\n",
      "                                   zTitle : string\n",
      "                   zTitle : string\n",
      "                           Z Axis Title\n",
      "                           Applicable only for 3d charts\n",
      "                   theme : string\n",
      "                           Layout Theme\n",
      "                                   solar\n",
      "                                   pearl\n",
      "                                   white           \n",
      "                           see cufflinks.getThemes() for all \n",
      "                           available themes\n",
      "                   colors : dict, list or string\n",
      "                           {key:color} to specify the color for each column\n",
      "                           [colors] to use the colors in the defined order\n",
      "                   colorscale : string\n",
      "                           Color scale name\n",
      "                           If the color name is preceded by a minus (-) \n",
      "                           then the scale is inversed\n",
      "                           Only valid if 'colors' is null\n",
      "                           See cufflinks.colors.scales() for available scales\n",
      "                   fill : bool\n",
      "                           Filled Traces           \n",
      "                   width : dict, list or int\n",
      "                                   int : applies to all traces\n",
      "                                   list : applies to each trace in the order \n",
      "                                                   specified\n",
      "                                   dict: {column:value} for each column in \n",
      "                                                   the dataframe\n",
      "                           Line width      \n",
      "                   dash : dict, list or string\n",
      "                                   string : applies to all traces\n",
      "                                   list : applies to each trace in the order \n",
      "                                                   specified\n",
      "                                   dict: {column:value} for each column in \n",
      "                                                   the dataframe\n",
      "                           Drawing style of lines\n",
      "                                   solid\n",
      "                                   dash\n",
      "                                   dashdot\n",
      "                                   dot\n",
      "                   mode : dict, list or string\n",
      "                                   string : applies to all traces\n",
      "                                   list : applies to each trace in the order \n",
      "                                                   specified\n",
      "                                   dict: {column:value} for each column in \n",
      "                                                   the dataframe\n",
      "                           Plotting mode for scatter trace\n",
      "                                   lines\n",
      "                                   markers\n",
      "                                   lines+markers\n",
      "                                   lines+text\n",
      "                                   markers+text\n",
      "                                   lines+markers+text\n",
      "                   interpolation : dict, list, or string\n",
      "                                   string : applies to all traces\n",
      "                                   list : applies to each trace in the order \n",
      "                                                   specified\n",
      "                                   dict: {column:value} for each column in \n",
      "                                                   the dataframe\n",
      "                           Positioning of the connecting lines\n",
      "                                   linear\n",
      "                                   spline\n",
      "                                   vhv\n",
      "                                   hvh\n",
      "                                   vh\n",
      "                                   hv              \n",
      "                   symbol : dict, list or string\n",
      "                                   string : applies to all traces\n",
      "                                   list : applies to each trace in the order \n",
      "                                                   specified\n",
      "                                   dict: {column:value} for each column in \n",
      "                                                   the dataframe\n",
      "                           The symbol that is drawn on the plot for each marker\n",
      "                           Valid only when mode includes markers\n",
      "                                   circle\n",
      "                                   circle-dot\n",
      "                                   diamond\n",
      "                                   square\n",
      "                                   and many more...(see plotly.validators.scatter.marker.SymbolValidator.values)\n",
      "                   size : string or int \n",
      "                           Size of marker \n",
      "                           Valid only if marker in mode\n",
      "                   barmode : string\n",
      "                           Mode when displaying bars\n",
      "                                   group\n",
      "                                   stack\n",
      "                                   overlay\n",
      "                           * Only valid when kind='bar'\n",
      "                   sortbars : bool\n",
      "                           Sort bars in descending order\n",
      "                           * Only valid when kind='bar'\n",
      "                   bargap : float\n",
      "                           Sets the gap between bars\n",
      "                                   [0,1)\n",
      "                           * Only valid when kind is 'histogram' or 'bar'\n",
      "                   bargroupgap : float\n",
      "                           Set the gap between groups\n",
      "                                   [0,1)\n",
      "                           * Only valid when kind is 'histogram' or 'bar'          \n",
      "                   bins : int or tuple \n",
      "                           if int:\n",
      "                                   Specifies the number of bins \n",
      "                           if tuple:\n",
      "                                   (start, end, size)\n",
      "                                   start : starting value\n",
      "                                   end: end value\n",
      "                                   size: bin size\n",
      "                           * Only valid when kind='histogram'\n",
      "    \n",
      "                   histnorm : string\n",
      "                                   '' (frequency)\n",
      "                                   percent\n",
      "                                   probability\n",
      "                                   density\n",
      "                                   probability density\n",
      "                           Sets the type of normalization for an histogram trace. By default\n",
      "                           the height of each bar displays the frequency of occurrence, i.e., \n",
      "                           the number of times this value was found in the\n",
      "                           corresponding bin. If set to 'percent', the height of each bar\n",
      "                           displays the percentage of total occurrences found within the\n",
      "                           corresponding bin. If set to 'probability', the height of each bar\n",
      "                           displays the probability that an event will fall into the\n",
      "                           corresponding bin. If set to 'density', the height of each bar is\n",
      "                           equal to the number of occurrences in a bin divided by the size of\n",
      "                           the bin interval such that summing the area of all bins will yield\n",
      "                           the total number of occurrences. If set to 'probability density',\n",
      "                           the height of each bar is equal to the number of probability that an\n",
      "                           event will fall into the corresponding bin divided by the size of\n",
      "                           the bin interval such that summing the area of all bins will yield\n",
      "                           1.\n",
      "                           * Only valid when kind='histogram'\n",
      "                   histfunc : string\n",
      "                                   count\n",
      "                                   sum\n",
      "                                   avg\n",
      "                                   min\n",
      "                                   max\n",
      "                      Sets the binning function used for an histogram trace. \n",
      "                           * Only valid when kind='histogram'           \n",
      "                   orientation : string\n",
      "                                   h \n",
      "                                   v\n",
      "                           Sets the orientation of the bars. If set to 'v', the length of each\n",
      "    |          bar will run vertically. If set to 'h', the length of each bar will\n",
      "    |          run horizontally\n",
      "                           * Only valid when kind is 'histogram','bar' or 'box'\n",
      "                   boxpoints : string\n",
      "                           Displays data points in a box plot\n",
      "                                   outliers\n",
      "                                   all\n",
      "                                   suspectedoutliers\n",
      "                                   False\n",
      "                   annotations : dictionary\n",
      "                           Dictionary of annotations\n",
      "                           {x_point : text}\n",
      "                   keys : list of columns\n",
      "                           List of columns to chart.\n",
      "                           Also can be used for custom sorting.\n",
      "                   bestfit : boolean or list\n",
      "                           If True then a best fit line will be generated for\n",
      "                           all columns.\n",
      "                           If list then a best fit line will be generated for\n",
      "                           each key on the list.\n",
      "                   bestfit_colors : list or dict\n",
      "                           {key:color} to specify the color for each column\n",
      "                           [colors] to use the colors in the defined order \n",
      "                   categories : string\n",
      "                           Name of the column that contains the categories\n",
      "                   x : string\n",
      "                           Name of the column that contains the x axis values              \n",
      "                   y : string\n",
      "                           Name of the column that contains the y axis values\n",
      "                   z : string\n",
      "                           Name of the column that contains the z axis values                                      \n",
      "                   text : string\n",
      "                           Name of the column that contains the text values        \n",
      "                   gridcolor : string\n",
      "                           Grid color      \n",
      "                   zerolinecolor : string\n",
      "                           Zero line color\n",
      "                   margin : dict or tuple\n",
      "                           Dictionary (l,r,b,t) or\n",
      "                           Tuple containing the left,\n",
      "                           right, bottom and top margins\n",
      "                   labels : string\n",
      "                           Name of the column that contains the labels.\n",
      "                           * Only valid when kind='pie' \n",
      "                   values : string\n",
      "                           Name of the column that contains the values.\n",
      "                           * Only valid when kind='pie'\n",
      "                   secondary_y : string or list(string)\n",
      "                           Name(s) of the column to be charted on the \n",
      "                           right hand side axis\n",
      "                   secondary_y_title : string\n",
      "                           Title of the secondary axis\n",
      "                   subplots : bool\n",
      "                           If true then each trace is placed in \n",
      "                           subplot layout\n",
      "                   shape : (rows,cols)\n",
      "                           Tuple indicating the size of rows and columns\n",
      "                           If omitted then the layout is automatically set\n",
      "                           * Only valid when subplots=True\n",
      "                   error_x : int or float or [int or float]\n",
      "                           error values for the x axis\n",
      "                   error_y : int or float or [int or float]\n",
      "                           error values for the y axis\n",
      "                   error_type : string\n",
      "                           type of error bars\n",
      "                                   'data' \n",
      "                                   'constant'\n",
      "                                   'percent'\n",
      "                                   'sqrt'\n",
      "                                   'continuous'\n",
      "                                   'continuous_percent'\n",
      "                   asFrame : bool\n",
      "                           If true then the data component of Figure will\n",
      "                           be of Pandas form (Series) otherwise they will \n",
      "                           be index values\n",
      "                   asDates : bool\n",
      "                           If true it truncates times from a DatetimeIndex\n",
      "                   asFigure : bool\n",
      "                           If True returns plotly Figure\n",
      "                   asImage : bool\n",
      "                           If True it returns an Image (png)\n",
      "                           In ONLINE mode:\n",
      "                                   Image file is saved in the working directory                            \n",
      "                                           Accepts:\n",
      "                                                   filename\n",
      "                                                   dimensions\n",
      "                                                   scale\n",
      "                                                   display_image\n",
      "                           In OFFLINE mode:\n",
      "                                   Image file is downloaded (downloads folder) and a \n",
      "                                   regular plotly chart is displayed in Jupyter\n",
      "                                           Accepts:\n",
      "                                                   filename\n",
      "                                                   dimensions\n",
      "                   dimensions : tuple(int,int)\n",
      "                           Dimensions for image / chart\n",
      "                                   (width,height)          \n",
      "                   asPlot : bool\n",
      "                           If True the chart opens in browser\n",
      "                   asUrl : bool\n",
      "                           If True the chart url/path is returned. No chart is displayed. \n",
      "                                   If Online : the URL is returned\n",
      "                                   If Offline : the local path is returned\n",
      "                   online : bool\n",
      "                           If True then the chart/image is rendered on the server \n",
      "                           even when running in offline mode. \n",
      "    \n",
      "                   Other Kwargs\n",
      "                   ============\n",
      "                   Line, Scatter\n",
      "                           connectgaps : bool\n",
      "                                   If True, empty values are connected \n",
      "                   Pie charts\n",
      "                           sort : bool\n",
      "                                   If True it sorts the labels by value\n",
      "                           pull : float [0-1]\n",
      "                                   Pulls the slices from the centre \n",
      "                           hole : float [0-1]\n",
      "                                   Sets the size of the inner hole\n",
      "                           linecolor : string\n",
      "                                   Sets the color for the contour line of the slices\n",
      "                           linewidth : string\n",
      "                                   Sets the width for the contour line of the slices       \n",
      "                           textcolor : string\n",
      "                                   Sets the color for the text in the slices\n",
      "                           textposition : string \n",
      "                                   Sets the position of the legends for each slice\n",
      "                                           outside\n",
      "                                           inner\n",
      "                           textinfo : string \n",
      "                                   Sets the information to be displayed on \n",
      "                                   the legends \n",
      "                                           label\n",
      "                                           percent\n",
      "                                           value\n",
      "                                           * or ony combination of the above using \n",
      "                                             '+' between each item\n",
      "                                             ie 'label+percent'\n",
      "    \n",
      "                   Histogram\n",
      "                           linecolor : string\n",
      "                                   specifies the line color of the histogram\n",
      "    \n",
      "                   Heatmap and Surface\n",
      "                           center_scale : float\n",
      "                                   Centers the colorscale at a specific value\n",
      "                                   Automatically sets the (zmin,zmax) values\n",
      "                           zmin : float\n",
      "                                   Defines the minimum range for the z values. \n",
      "                                   This affects the range for the colorscale\n",
      "                           zmax : float\n",
      "                                   Defines the maximum range for the z values. \n",
      "                                   This affects the range for the colorscale\n",
      "    \n",
      "                   Error Bars\n",
      "                           error_trace : string\n",
      "                                   Name of the column for which error should be \n",
      "                                   plotted. If omitted then errors apply to all \n",
      "                                   traces.\n",
      "                           error_values_minus : int or float or [int or float]\n",
      "                                   Values corresponding to the span of the error bars \n",
      "                                   below the trace coordinates\n",
      "                           error_color : string\n",
      "                                   Color for error bars\n",
      "                           error_thickness : float \n",
      "                                   Sets the line thickness of the error bars\n",
      "                           error_width :  float\n",
      "                                   Sets the width (in pixels) of the cross-bar at both \n",
      "                                   ends of the error bars\n",
      "                           error_opacity : float [0,1]\n",
      "                                   Opacity for the error bars\n",
      "    \n",
      "                   Subplots\n",
      "                           horizontal_spacing : float [0,1]\n",
      "                                   Space between subplot columns.\n",
      "                           vertical_spacing : float [0,1]\n",
      "                                   Space between subplot rows.\n",
      "                           subplot_titles : bool\n",
      "                                   If True, chart titles are plotted\n",
      "                                   at the top of each subplot\n",
      "                           shared_xaxes : bool\n",
      "                                   Assign shared x axes.\n",
      "                                   If True, subplots in the same grid column have one common\n",
      "                                   shared x-axis at the bottom of the grid.\n",
      "                           shared_yaxes : bool\n",
      "                                   Assign shared y axes.\n",
      "                                   If True, subplots in the same grid row have one common\n",
      "                                   shared y-axis on the left-hand side of the grid.\n",
      "    \n",
      "                   Shapes\n",
      "                           hline : float, list or dict\n",
      "                                   Draws a horizontal line at the \n",
      "                                   indicated y position(s)\n",
      "                                   Extra parameters can be passed in\n",
      "                                   the form of a dictionary (see shapes)\n",
      "                           vline : float, list or dict\n",
      "                                   Draws a vertical line at the \n",
      "                                   indicated x position(s)\n",
      "                                   Extra parameters can be passed in\n",
      "                                   the form of a dictionary (see shapes)\n",
      "                           hpsan : (y0,y1)\n",
      "                                   Draws a horizontal rectangle at the \n",
      "                                   indicated (y0,y1) positions.\n",
      "                                   Extra parameters can be passed in\n",
      "                                   the form of a dictionary (see shapes)\n",
      "                           vspan : (x0,x1)\n",
      "                                   Draws a vertical rectangle at the \n",
      "                                   indicated (x0,x1) positions.\n",
      "                                   Extra parameters can be passed in\n",
      "                                   the form of a dictionary (see shapes)\n",
      "                           shapes : dict or list(dict)\n",
      "                                   List of dictionaries with the \n",
      "                                   specifications of a given shape.\n",
      "                                   See help(cufflinks.tools.get_shape)\n",
      "                                   for more information\n",
      "                   \n",
      "                   Axis Ranges\n",
      "                           xrange : [lower_bound,upper_bound]\n",
      "                                   Sets the range for the x axis\n",
      "                           yrange : [lower_bound,upper_bound]\n",
      "                                   Sets the range for the y axis\n",
      "                           zrange : [lower_bound,upper_bound]\n",
      "                                   Sets the range for the z axis\n",
      "                                   \n",
      "                   Explicit Layout Updates\n",
      "                           layout_update : dict\n",
      "                                   The layout will be modified with all \n",
      "                                   the explicit values stated in the \n",
      "                                   dictionary. \n",
      "                                   It will not apply if layout is passed\n",
      "                                   as parameter.\n",
      "    \n",
      "    \n",
      "                   Range Selector\n",
      "                           rangeselector : dict\n",
      "                                   Defines a rangeselector object\n",
      "                                   see help(cf.tools.get_range_selector) for more information\n",
      "                                   Example:\n",
      "                                           {'steps':['1y','2 months','5 weeks','ytd','2mtd'],\n",
      "                                            'axis':'xaxis', 'bgcolor' : ('blue',.3),\n",
      "                                            'x': 0.2 , 'y' : 0.9}\n",
      "    \n",
      "                   Range Slider\n",
      "                           rangeslider : bool or dict\n",
      "                                   Defines if a rangeslider is displayed\n",
      "                                   If bool: \n",
      "                                           True : Makes it visible\n",
      "                                   if dict:\n",
      "                                           Rangeslider object\n",
      "                                   Example:\n",
      "                                           {'bgcolor':('blue',.3),'autorange':True}\n",
      "    \n",
      "                   Annotations\n",
      "                           fontcolor : str\n",
      "                                   Text color for annotations\n",
      "                           fontsize : int\n",
      "                                   Text size for annotations\n",
      "                           textangle : int\n",
      "                                   Text angle \n",
      "                           See https://plot.ly/python/reference/#layout-annotations \n",
      "                           for a complete list of valid parameters.\n",
      "    \n",
      "                   Exports\n",
      "                           display_image : bool\n",
      "                                   If True then the image if displayed after being saved\n",
      "                                   ** only valid if asImage=True\n",
      "                           scale : integer\n",
      "                                   Increase the resolution of the image by `scale` amount\n",
      "                                   Only valid when asImage=True\n",
      "\n"
     ]
    }
   ],
   "source": [
    "df = pd.DataFrame()\n",
    "help(df.iplot)"
   ]
  },
  {
   "cell_type": "code",
   "execution_count": 5,
   "metadata": {},
   "outputs": [
    {
     "data": {
      "text/html": [
       "        <script type=\"text/javascript\">\n",
       "        window.PlotlyConfig = {MathJaxConfig: 'local'};\n",
       "        if (window.MathJax) {MathJax.Hub.Config({SVG: {font: \"STIX-Web\"}});}\n",
       "        if (typeof require !== 'undefined') {\n",
       "        require.undef(\"plotly\");\n",
       "        requirejs.config({\n",
       "            paths: {\n",
       "                'plotly': ['https://cdn.plot.ly/plotly-latest.min']\n",
       "            }\n",
       "        });\n",
       "        require(['plotly'], function(Plotly) {\n",
       "            window._Plotly = Plotly;\n",
       "        });\n",
       "        }\n",
       "        </script>\n",
       "        "
      ]
     },
     "metadata": {},
     "output_type": "display_data"
    }
   ],
   "source": [
    "py.offline.init_notebook_mode(connected=True)"
   ]
  },
  {
   "cell_type": "code",
   "execution_count": 6,
   "metadata": {},
   "outputs": [
    {
     "data": {
      "text/html": [
       "        <script type=\"text/javascript\">\n",
       "        window.PlotlyConfig = {MathJaxConfig: 'local'};\n",
       "        if (window.MathJax) {MathJax.Hub.Config({SVG: {font: \"STIX-Web\"}});}\n",
       "        if (typeof require !== 'undefined') {\n",
       "        require.undef(\"plotly\");\n",
       "        requirejs.config({\n",
       "            paths: {\n",
       "                'plotly': ['https://cdn.plot.ly/plotly-latest.min']\n",
       "            }\n",
       "        });\n",
       "        require(['plotly'], function(Plotly) {\n",
       "            window._Plotly = Plotly;\n",
       "        });\n",
       "        }\n",
       "        </script>\n",
       "        "
      ]
     },
     "metadata": {},
     "output_type": "display_data"
    }
   ],
   "source": [
    "cf.go_offline()"
   ]
  },
  {
   "cell_type": "code",
   "execution_count": 7,
   "metadata": {},
   "outputs": [
    {
     "data": {
      "text/html": [
       "<div>\n",
       "<style scoped>\n",
       "    .dataframe tbody tr th:only-of-type {\n",
       "        vertical-align: middle;\n",
       "    }\n",
       "\n",
       "    .dataframe tbody tr th {\n",
       "        vertical-align: top;\n",
       "    }\n",
       "\n",
       "    .dataframe thead th {\n",
       "        text-align: right;\n",
       "    }\n",
       "</style>\n",
       "<table border=\"1\" class=\"dataframe\">\n",
       "  <thead>\n",
       "    <tr style=\"text-align: right;\">\n",
       "      <th></th>\n",
       "      <th>A</th>\n",
       "      <th>B</th>\n",
       "      <th>C</th>\n",
       "    </tr>\n",
       "  </thead>\n",
       "  <tbody>\n",
       "    <tr>\n",
       "      <th>0</th>\n",
       "      <td>2.545423</td>\n",
       "      <td>-1.369889</td>\n",
       "      <td>-0.306808</td>\n",
       "    </tr>\n",
       "    <tr>\n",
       "      <th>1</th>\n",
       "      <td>-1.393743</td>\n",
       "      <td>1.468858</td>\n",
       "      <td>1.633399</td>\n",
       "    </tr>\n",
       "    <tr>\n",
       "      <th>2</th>\n",
       "      <td>0.263786</td>\n",
       "      <td>-2.677509</td>\n",
       "      <td>-0.752367</td>\n",
       "    </tr>\n",
       "    <tr>\n",
       "      <th>3</th>\n",
       "      <td>-2.591144</td>\n",
       "      <td>2.624130</td>\n",
       "      <td>1.936574</td>\n",
       "    </tr>\n",
       "    <tr>\n",
       "      <th>4</th>\n",
       "      <td>0.700594</td>\n",
       "      <td>0.363965</td>\n",
       "      <td>-1.583124</td>\n",
       "    </tr>\n",
       "  </tbody>\n",
       "</table>\n",
       "</div>"
      ],
      "text/plain": [
       "          A         B         C\n",
       "0  2.545423 -1.369889 -0.306808\n",
       "1 -1.393743  1.468858  1.633399\n",
       "2  0.263786 -2.677509 -0.752367\n",
       "3 -2.591144  2.624130  1.936574\n",
       "4  0.700594  0.363965 -1.583124"
      ]
     },
     "execution_count": 7,
     "metadata": {},
     "output_type": "execute_result"
    }
   ],
   "source": [
    "df = pd.DataFrame(np.random.randn(100,3), columns =['A', 'B', 'C'])\n",
    "df.head()"
   ]
  },
  {
   "cell_type": "code",
   "execution_count": 8,
   "metadata": {},
   "outputs": [
    {
     "data": {
      "text/plain": [
       "(100, 3)"
      ]
     },
     "execution_count": 8,
     "metadata": {},
     "output_type": "execute_result"
    }
   ],
   "source": [
    "df.shape"
   ]
  },
  {
   "cell_type": "code",
   "execution_count": 9,
   "metadata": {},
   "outputs": [
    {
     "data": {
      "application/vnd.plotly.v1+json": {
       "config": {
        "linkText": "Export to plot.ly",
        "plotlyServerURL": "https://plot.ly",
        "showLink": true
       },
       "data": [
        {
         "line": {
          "color": "rgba(255, 153, 51, 1.0)",
          "dash": "solid",
          "shape": "linear",
          "width": 1.3
         },
         "mode": "lines",
         "name": "A",
         "text": "",
         "type": "scatter",
         "x": [
          0,
          1,
          2,
          3,
          4,
          5,
          6,
          7,
          8,
          9,
          10,
          11,
          12,
          13,
          14,
          15,
          16,
          17,
          18,
          19,
          20,
          21,
          22,
          23,
          24,
          25,
          26,
          27,
          28,
          29,
          30,
          31,
          32,
          33,
          34,
          35,
          36,
          37,
          38,
          39,
          40,
          41,
          42,
          43,
          44,
          45,
          46,
          47,
          48,
          49,
          50,
          51,
          52,
          53,
          54,
          55,
          56,
          57,
          58,
          59,
          60,
          61,
          62,
          63,
          64,
          65,
          66,
          67,
          68,
          69,
          70,
          71,
          72,
          73,
          74,
          75,
          76,
          77,
          78,
          79,
          80,
          81,
          82,
          83,
          84,
          85,
          86,
          87,
          88,
          89,
          90,
          91,
          92,
          93,
          94,
          95,
          96,
          97,
          98,
          99
         ],
         "y": [
          2.545422582407242,
          -1.3937426184105661,
          0.26378575904145857,
          -2.59114383866192,
          0.7005942339513257,
          0.6906337625736656,
          -1.6215730919189102,
          -0.49235626177705066,
          -0.6636156220909869,
          -0.4883324484507755,
          -0.14939280758418422,
          1.2722819197577828,
          0.47683313380722575,
          1.6589203410511641,
          -1.4089899190004231,
          0.507717168484866,
          0.3687606630266729,
          -2.166782224199825,
          -1.0056884558753405,
          -0.27690652024008733,
          0.7687679233310685,
          -0.06467290306512284,
          -0.9874967841019978,
          -1.0341891505149237,
          -0.41284162509486083,
          -0.8007994539366524,
          -0.844284913576002,
          -0.8613086448894214,
          1.2884075862911235,
          -0.6271693744268715,
          -0.5360613835782079,
          0.6527935465740622,
          1.2299625767506608,
          0.35987214787303606,
          -0.3086483173602702,
          0.5009593828381066,
          -0.04429930430005258,
          -1.1448710022803765,
          0.7852383659565874,
          -0.9073872427571655,
          1.3158787006661374,
          0.5824959905168052,
          -1.5411457569857063,
          0.7052541463555405,
          -0.2839650929833752,
          0.5952393056602152,
          1.1879645426788152,
          -0.13089026869539028,
          0.3739347769602952,
          -1.956647034236704,
          -0.9789237772066728,
          -1.507757964566034,
          0.3956100110236365,
          0.22903701119745926,
          -0.11291075468494387,
          0.7255540810431677,
          0.9769811475585487,
          -1.9491426701676529,
          -1.2322868923236587,
          1.4060998972657657,
          -0.34699456971798626,
          0.8473122739378478,
          1.0714063401158824,
          -0.023141839890683816,
          -0.2012493582729275,
          0.3323393571158927,
          -0.0519885935236339,
          0.6278527622760888,
          -0.5152001354957508,
          0.5177355937623892,
          1.290692561604284,
          -0.42601293393118533,
          -0.06826209801312551,
          0.19033443258933241,
          1.1649479915548133,
          1.5895671023130298,
          0.35103278238065966,
          0.6121649996569845,
          -0.6568035591982165,
          -1.0923761638250438,
          0.2599460913534371,
          2.256216415561148,
          1.2007449829456203,
          -0.4679787961156642,
          -1.4890740979021118,
          -0.6806636141368105,
          -0.30156651857083844,
          0.9803404389270307,
          -0.3479276031920921,
          0.4567278166760434,
          0.8240546671595746,
          0.541441859437552,
          -1.4945781808369936,
          -0.6363687405638301,
          0.9791762039778981,
          -1.07019121702315,
          -0.8699056495327684,
          2.5524513390280394,
          0.5037614990890081,
          -0.39307110280189717
         ]
        },
        {
         "line": {
          "color": "rgba(55, 128, 191, 1.0)",
          "dash": "solid",
          "shape": "linear",
          "width": 1.3
         },
         "mode": "lines",
         "name": "B",
         "text": "",
         "type": "scatter",
         "x": [
          0,
          1,
          2,
          3,
          4,
          5,
          6,
          7,
          8,
          9,
          10,
          11,
          12,
          13,
          14,
          15,
          16,
          17,
          18,
          19,
          20,
          21,
          22,
          23,
          24,
          25,
          26,
          27,
          28,
          29,
          30,
          31,
          32,
          33,
          34,
          35,
          36,
          37,
          38,
          39,
          40,
          41,
          42,
          43,
          44,
          45,
          46,
          47,
          48,
          49,
          50,
          51,
          52,
          53,
          54,
          55,
          56,
          57,
          58,
          59,
          60,
          61,
          62,
          63,
          64,
          65,
          66,
          67,
          68,
          69,
          70,
          71,
          72,
          73,
          74,
          75,
          76,
          77,
          78,
          79,
          80,
          81,
          82,
          83,
          84,
          85,
          86,
          87,
          88,
          89,
          90,
          91,
          92,
          93,
          94,
          95,
          96,
          97,
          98,
          99
         ],
         "y": [
          -1.3698890222810864,
          1.468858226697031,
          -2.6775093161924106,
          2.6241296660970663,
          0.36396515145614833,
          0.3520629303225804,
          -0.7575791694752321,
          2.575135611628122,
          -0.6374169471104104,
          -0.7873637294197173,
          0.17128193625513832,
          -0.1569106139599138,
          -0.5524072005161004,
          0.5363407176083834,
          -1.1605444013434016,
          -0.06381351188272445,
          -0.11007476652781922,
          -1.6466983523826277,
          0.8297660957379236,
          -0.525067589968808,
          0.1952508945149842,
          -0.8627590608084271,
          -0.3810151729583025,
          1.0820680379967602,
          -0.018438217361609763,
          -1.747439986749667,
          -1.7818610495098255,
          -1.0077172781070205,
          0.6844957314986179,
          -1.137152163522632,
          -2.510367083697795,
          0.25573166478842774,
          0.564344055849764,
          0.20787699339796484,
          1.0584871609492743,
          1.8883373700972605,
          -1.7754804028114084,
          -1.2512264718364745,
          0.9840315811897672,
          0.5417670529857127,
          0.8770070204160135,
          0.14642313666191561,
          0.03895081980992235,
          0.10213459428829191,
          -0.008328448673564352,
          0.4685210582488976,
          -0.3704953311201001,
          0.5557369466822102,
          1.077599126414049,
          -0.2832377420817606,
          0.24298155997715376,
          0.05303988234374131,
          -1.7118138700341363,
          -0.38319044080328235,
          1.2589329093016373,
          0.762645125882802,
          -0.6720150977058493,
          0.4683292203577614,
          0.11797893083664346,
          -0.9091258133627241,
          -0.3707570381436423,
          -1.081413106910501,
          -0.1132846989782559,
          -0.2110284505218709,
          0.8595392663683861,
          1.100151861281265,
          -0.6033914758361275,
          -0.334168079556354,
          -1.9613106650302627,
          1.2482021521414892,
          0.6715303182078085,
          -1.400114889845324,
          1.3366083193675247,
          -0.2678701330564599,
          0.900882535433926,
          0.31571107008065635,
          1.0436163272878745,
          -1.2047758374838367,
          1.1298629508776705,
          0.8371023927309843,
          -0.11482888849938674,
          0.4916375480786155,
          -1.0515548992867758,
          0.22551417755546335,
          0.20970097094640894,
          1.1873962316040105,
          -0.5122900729203552,
          -0.31159957295842766,
          0.3396703270248756,
          -2.5539721053966162,
          -0.2751434384009007,
          0.9226963049449596,
          -0.9303751719605092,
          -1.4642734225016258,
          0.9429516650299584,
          1.8928590193045884,
          -0.23491886231991851,
          1.0995855438394793,
          -0.2698472858657239,
          -0.08829214800183324
         ]
        },
        {
         "line": {
          "color": "rgba(50, 171, 96, 1.0)",
          "dash": "solid",
          "shape": "linear",
          "width": 1.3
         },
         "mode": "lines",
         "name": "C",
         "text": "",
         "type": "scatter",
         "x": [
          0,
          1,
          2,
          3,
          4,
          5,
          6,
          7,
          8,
          9,
          10,
          11,
          12,
          13,
          14,
          15,
          16,
          17,
          18,
          19,
          20,
          21,
          22,
          23,
          24,
          25,
          26,
          27,
          28,
          29,
          30,
          31,
          32,
          33,
          34,
          35,
          36,
          37,
          38,
          39,
          40,
          41,
          42,
          43,
          44,
          45,
          46,
          47,
          48,
          49,
          50,
          51,
          52,
          53,
          54,
          55,
          56,
          57,
          58,
          59,
          60,
          61,
          62,
          63,
          64,
          65,
          66,
          67,
          68,
          69,
          70,
          71,
          72,
          73,
          74,
          75,
          76,
          77,
          78,
          79,
          80,
          81,
          82,
          83,
          84,
          85,
          86,
          87,
          88,
          89,
          90,
          91,
          92,
          93,
          94,
          95,
          96,
          97,
          98,
          99
         ],
         "y": [
          -0.30680774773262376,
          1.633399127120363,
          -0.7523668499527457,
          1.9365741667944165,
          -1.5831238482144114,
          -0.3899568914179634,
          0.35722012931207536,
          0.37113947553914595,
          -0.7490233337619386,
          0.9584223942399508,
          -0.3149880604456857,
          1.008877030698152,
          0.322329684357028,
          -1.4198625901820727,
          0.8655747023700909,
          0.32000044850637754,
          0.9710106067657722,
          0.23036067563712437,
          -0.4988114537675237,
          0.7591295579948435,
          -1.0389575028120717,
          -0.9776836324323516,
          0.012535891540553984,
          -1.102094479204576,
          -0.8384493051060692,
          -0.6341969446663335,
          -0.4839514453030405,
          1.423298273630135,
          1.6410317471362004,
          1.4413575370579317,
          0.002944888854924175,
          0.03304617349668435,
          0.9010151842560247,
          0.4029861466573547,
          0.9974967277043864,
          1.2839759929042303,
          0.34597647068202,
          1.9042762865343206,
          0.5458989655383707,
          1.8501050053869441,
          0.13241741478953525,
          -0.41966697170977957,
          -0.4567259815443119,
          -0.1722769215219067,
          -0.09778550144737476,
          0.39102698832866317,
          1.640227942094042,
          -1.3785134138408066,
          1.20657833806153,
          0.05771406538714777,
          0.8273862858405309,
          0.07565670752968497,
          1.5497085192840254,
          0.8624223229819158,
          -1.8753175763961611,
          0.6060355758675859,
          -1.4725453269924185,
          0.19713013564838006,
          1.1890692050306833,
          0.9540513426252115,
          -0.07790446673614207,
          0.19877946667206886,
          -0.704700156874286,
          0.07606474515554347,
          -1.2002761125630905,
          -0.00555228101489527,
          -0.10259119546328387,
          -0.2052019904892203,
          0.607913435175495,
          2.0518834434609,
          -0.6635131373890969,
          -0.4636641700393449,
          0.11716113654787197,
          -0.48611612747896865,
          0.6429303339261597,
          0.6003655581689678,
          0.28181569544646096,
          -1.3434905501550243,
          0.25884283374425043,
          0.7865514494765606,
          -1.3719100878174488,
          0.033787830879164885,
          0.0796049345171118,
          1.835024429106111,
          -0.07052019721713777,
          -0.44236984981668914,
          0.7544448130083827,
          2.3229771251341305,
          0.09960529799696517,
          0.02340961129360203,
          -1.9287506379314256,
          -1.9193161457248458,
          0.18102205535627025,
          0.47075993024867313,
          1.2260642707857998,
          0.30270513903776763,
          -0.04829216987211699,
          0.25348951419846316,
          0.7703893115596518,
          0.59952361085234
         ]
        }
       ],
       "layout": {
        "legend": {
         "bgcolor": "#151516",
         "font": {
          "color": "#D9D9D9"
         }
        },
        "paper_bgcolor": "#151516",
        "plot_bgcolor": "#151516",
        "template": {
         "data": {
          "bar": [
           {
            "error_x": {
             "color": "#2a3f5f"
            },
            "error_y": {
             "color": "#2a3f5f"
            },
            "marker": {
             "line": {
              "color": "#E5ECF6",
              "width": 0.5
             }
            },
            "type": "bar"
           }
          ],
          "barpolar": [
           {
            "marker": {
             "line": {
              "color": "#E5ECF6",
              "width": 0.5
             }
            },
            "type": "barpolar"
           }
          ],
          "carpet": [
           {
            "aaxis": {
             "endlinecolor": "#2a3f5f",
             "gridcolor": "white",
             "linecolor": "white",
             "minorgridcolor": "white",
             "startlinecolor": "#2a3f5f"
            },
            "baxis": {
             "endlinecolor": "#2a3f5f",
             "gridcolor": "white",
             "linecolor": "white",
             "minorgridcolor": "white",
             "startlinecolor": "#2a3f5f"
            },
            "type": "carpet"
           }
          ],
          "choropleth": [
           {
            "colorbar": {
             "outlinewidth": 0,
             "ticks": ""
            },
            "type": "choropleth"
           }
          ],
          "contour": [
           {
            "colorbar": {
             "outlinewidth": 0,
             "ticks": ""
            },
            "colorscale": [
             [
              0,
              "#0d0887"
             ],
             [
              0.1111111111111111,
              "#46039f"
             ],
             [
              0.2222222222222222,
              "#7201a8"
             ],
             [
              0.3333333333333333,
              "#9c179e"
             ],
             [
              0.4444444444444444,
              "#bd3786"
             ],
             [
              0.5555555555555556,
              "#d8576b"
             ],
             [
              0.6666666666666666,
              "#ed7953"
             ],
             [
              0.7777777777777778,
              "#fb9f3a"
             ],
             [
              0.8888888888888888,
              "#fdca26"
             ],
             [
              1,
              "#f0f921"
             ]
            ],
            "type": "contour"
           }
          ],
          "contourcarpet": [
           {
            "colorbar": {
             "outlinewidth": 0,
             "ticks": ""
            },
            "type": "contourcarpet"
           }
          ],
          "heatmap": [
           {
            "colorbar": {
             "outlinewidth": 0,
             "ticks": ""
            },
            "colorscale": [
             [
              0,
              "#0d0887"
             ],
             [
              0.1111111111111111,
              "#46039f"
             ],
             [
              0.2222222222222222,
              "#7201a8"
             ],
             [
              0.3333333333333333,
              "#9c179e"
             ],
             [
              0.4444444444444444,
              "#bd3786"
             ],
             [
              0.5555555555555556,
              "#d8576b"
             ],
             [
              0.6666666666666666,
              "#ed7953"
             ],
             [
              0.7777777777777778,
              "#fb9f3a"
             ],
             [
              0.8888888888888888,
              "#fdca26"
             ],
             [
              1,
              "#f0f921"
             ]
            ],
            "type": "heatmap"
           }
          ],
          "heatmapgl": [
           {
            "colorbar": {
             "outlinewidth": 0,
             "ticks": ""
            },
            "colorscale": [
             [
              0,
              "#0d0887"
             ],
             [
              0.1111111111111111,
              "#46039f"
             ],
             [
              0.2222222222222222,
              "#7201a8"
             ],
             [
              0.3333333333333333,
              "#9c179e"
             ],
             [
              0.4444444444444444,
              "#bd3786"
             ],
             [
              0.5555555555555556,
              "#d8576b"
             ],
             [
              0.6666666666666666,
              "#ed7953"
             ],
             [
              0.7777777777777778,
              "#fb9f3a"
             ],
             [
              0.8888888888888888,
              "#fdca26"
             ],
             [
              1,
              "#f0f921"
             ]
            ],
            "type": "heatmapgl"
           }
          ],
          "histogram": [
           {
            "marker": {
             "colorbar": {
              "outlinewidth": 0,
              "ticks": ""
             }
            },
            "type": "histogram"
           }
          ],
          "histogram2d": [
           {
            "colorbar": {
             "outlinewidth": 0,
             "ticks": ""
            },
            "colorscale": [
             [
              0,
              "#0d0887"
             ],
             [
              0.1111111111111111,
              "#46039f"
             ],
             [
              0.2222222222222222,
              "#7201a8"
             ],
             [
              0.3333333333333333,
              "#9c179e"
             ],
             [
              0.4444444444444444,
              "#bd3786"
             ],
             [
              0.5555555555555556,
              "#d8576b"
             ],
             [
              0.6666666666666666,
              "#ed7953"
             ],
             [
              0.7777777777777778,
              "#fb9f3a"
             ],
             [
              0.8888888888888888,
              "#fdca26"
             ],
             [
              1,
              "#f0f921"
             ]
            ],
            "type": "histogram2d"
           }
          ],
          "histogram2dcontour": [
           {
            "colorbar": {
             "outlinewidth": 0,
             "ticks": ""
            },
            "colorscale": [
             [
              0,
              "#0d0887"
             ],
             [
              0.1111111111111111,
              "#46039f"
             ],
             [
              0.2222222222222222,
              "#7201a8"
             ],
             [
              0.3333333333333333,
              "#9c179e"
             ],
             [
              0.4444444444444444,
              "#bd3786"
             ],
             [
              0.5555555555555556,
              "#d8576b"
             ],
             [
              0.6666666666666666,
              "#ed7953"
             ],
             [
              0.7777777777777778,
              "#fb9f3a"
             ],
             [
              0.8888888888888888,
              "#fdca26"
             ],
             [
              1,
              "#f0f921"
             ]
            ],
            "type": "histogram2dcontour"
           }
          ],
          "mesh3d": [
           {
            "colorbar": {
             "outlinewidth": 0,
             "ticks": ""
            },
            "type": "mesh3d"
           }
          ],
          "parcoords": [
           {
            "line": {
             "colorbar": {
              "outlinewidth": 0,
              "ticks": ""
             }
            },
            "type": "parcoords"
           }
          ],
          "pie": [
           {
            "automargin": true,
            "type": "pie"
           }
          ],
          "scatter": [
           {
            "marker": {
             "colorbar": {
              "outlinewidth": 0,
              "ticks": ""
             }
            },
            "type": "scatter"
           }
          ],
          "scatter3d": [
           {
            "line": {
             "colorbar": {
              "outlinewidth": 0,
              "ticks": ""
             }
            },
            "marker": {
             "colorbar": {
              "outlinewidth": 0,
              "ticks": ""
             }
            },
            "type": "scatter3d"
           }
          ],
          "scattercarpet": [
           {
            "marker": {
             "colorbar": {
              "outlinewidth": 0,
              "ticks": ""
             }
            },
            "type": "scattercarpet"
           }
          ],
          "scattergeo": [
           {
            "marker": {
             "colorbar": {
              "outlinewidth": 0,
              "ticks": ""
             }
            },
            "type": "scattergeo"
           }
          ],
          "scattergl": [
           {
            "marker": {
             "colorbar": {
              "outlinewidth": 0,
              "ticks": ""
             }
            },
            "type": "scattergl"
           }
          ],
          "scattermapbox": [
           {
            "marker": {
             "colorbar": {
              "outlinewidth": 0,
              "ticks": ""
             }
            },
            "type": "scattermapbox"
           }
          ],
          "scatterpolar": [
           {
            "marker": {
             "colorbar": {
              "outlinewidth": 0,
              "ticks": ""
             }
            },
            "type": "scatterpolar"
           }
          ],
          "scatterpolargl": [
           {
            "marker": {
             "colorbar": {
              "outlinewidth": 0,
              "ticks": ""
             }
            },
            "type": "scatterpolargl"
           }
          ],
          "scatterternary": [
           {
            "marker": {
             "colorbar": {
              "outlinewidth": 0,
              "ticks": ""
             }
            },
            "type": "scatterternary"
           }
          ],
          "surface": [
           {
            "colorbar": {
             "outlinewidth": 0,
             "ticks": ""
            },
            "colorscale": [
             [
              0,
              "#0d0887"
             ],
             [
              0.1111111111111111,
              "#46039f"
             ],
             [
              0.2222222222222222,
              "#7201a8"
             ],
             [
              0.3333333333333333,
              "#9c179e"
             ],
             [
              0.4444444444444444,
              "#bd3786"
             ],
             [
              0.5555555555555556,
              "#d8576b"
             ],
             [
              0.6666666666666666,
              "#ed7953"
             ],
             [
              0.7777777777777778,
              "#fb9f3a"
             ],
             [
              0.8888888888888888,
              "#fdca26"
             ],
             [
              1,
              "#f0f921"
             ]
            ],
            "type": "surface"
           }
          ],
          "table": [
           {
            "cells": {
             "fill": {
              "color": "#EBF0F8"
             },
             "line": {
              "color": "white"
             }
            },
            "header": {
             "fill": {
              "color": "#C8D4E3"
             },
             "line": {
              "color": "white"
             }
            },
            "type": "table"
           }
          ]
         },
         "layout": {
          "annotationdefaults": {
           "arrowcolor": "#2a3f5f",
           "arrowhead": 0,
           "arrowwidth": 1
          },
          "coloraxis": {
           "colorbar": {
            "outlinewidth": 0,
            "ticks": ""
           }
          },
          "colorscale": {
           "diverging": [
            [
             0,
             "#8e0152"
            ],
            [
             0.1,
             "#c51b7d"
            ],
            [
             0.2,
             "#de77ae"
            ],
            [
             0.3,
             "#f1b6da"
            ],
            [
             0.4,
             "#fde0ef"
            ],
            [
             0.5,
             "#f7f7f7"
            ],
            [
             0.6,
             "#e6f5d0"
            ],
            [
             0.7,
             "#b8e186"
            ],
            [
             0.8,
             "#7fbc41"
            ],
            [
             0.9,
             "#4d9221"
            ],
            [
             1,
             "#276419"
            ]
           ],
           "sequential": [
            [
             0,
             "#0d0887"
            ],
            [
             0.1111111111111111,
             "#46039f"
            ],
            [
             0.2222222222222222,
             "#7201a8"
            ],
            [
             0.3333333333333333,
             "#9c179e"
            ],
            [
             0.4444444444444444,
             "#bd3786"
            ],
            [
             0.5555555555555556,
             "#d8576b"
            ],
            [
             0.6666666666666666,
             "#ed7953"
            ],
            [
             0.7777777777777778,
             "#fb9f3a"
            ],
            [
             0.8888888888888888,
             "#fdca26"
            ],
            [
             1,
             "#f0f921"
            ]
           ],
           "sequentialminus": [
            [
             0,
             "#0d0887"
            ],
            [
             0.1111111111111111,
             "#46039f"
            ],
            [
             0.2222222222222222,
             "#7201a8"
            ],
            [
             0.3333333333333333,
             "#9c179e"
            ],
            [
             0.4444444444444444,
             "#bd3786"
            ],
            [
             0.5555555555555556,
             "#d8576b"
            ],
            [
             0.6666666666666666,
             "#ed7953"
            ],
            [
             0.7777777777777778,
             "#fb9f3a"
            ],
            [
             0.8888888888888888,
             "#fdca26"
            ],
            [
             1,
             "#f0f921"
            ]
           ]
          },
          "colorway": [
           "#636efa",
           "#EF553B",
           "#00cc96",
           "#ab63fa",
           "#FFA15A",
           "#19d3f3",
           "#FF6692",
           "#B6E880",
           "#FF97FF",
           "#FECB52"
          ],
          "font": {
           "color": "#2a3f5f"
          },
          "geo": {
           "bgcolor": "white",
           "lakecolor": "white",
           "landcolor": "#E5ECF6",
           "showlakes": true,
           "showland": true,
           "subunitcolor": "white"
          },
          "hoverlabel": {
           "align": "left"
          },
          "hovermode": "closest",
          "mapbox": {
           "style": "light"
          },
          "paper_bgcolor": "white",
          "plot_bgcolor": "#E5ECF6",
          "polar": {
           "angularaxis": {
            "gridcolor": "white",
            "linecolor": "white",
            "ticks": ""
           },
           "bgcolor": "#E5ECF6",
           "radialaxis": {
            "gridcolor": "white",
            "linecolor": "white",
            "ticks": ""
           }
          },
          "scene": {
           "xaxis": {
            "backgroundcolor": "#E5ECF6",
            "gridcolor": "white",
            "gridwidth": 2,
            "linecolor": "white",
            "showbackground": true,
            "ticks": "",
            "zerolinecolor": "white"
           },
           "yaxis": {
            "backgroundcolor": "#E5ECF6",
            "gridcolor": "white",
            "gridwidth": 2,
            "linecolor": "white",
            "showbackground": true,
            "ticks": "",
            "zerolinecolor": "white"
           },
           "zaxis": {
            "backgroundcolor": "#E5ECF6",
            "gridcolor": "white",
            "gridwidth": 2,
            "linecolor": "white",
            "showbackground": true,
            "ticks": "",
            "zerolinecolor": "white"
           }
          },
          "shapedefaults": {
           "line": {
            "color": "#2a3f5f"
           }
          },
          "ternary": {
           "aaxis": {
            "gridcolor": "white",
            "linecolor": "white",
            "ticks": ""
           },
           "baxis": {
            "gridcolor": "white",
            "linecolor": "white",
            "ticks": ""
           },
           "bgcolor": "#E5ECF6",
           "caxis": {
            "gridcolor": "white",
            "linecolor": "white",
            "ticks": ""
           }
          },
          "title": {
           "x": 0.05
          },
          "xaxis": {
           "automargin": true,
           "gridcolor": "white",
           "linecolor": "white",
           "ticks": "",
           "title": {
            "standoff": 15
           },
           "zerolinecolor": "white",
           "zerolinewidth": 2
          },
          "yaxis": {
           "automargin": true,
           "gridcolor": "white",
           "linecolor": "white",
           "ticks": "",
           "title": {
            "standoff": 15
           },
           "zerolinecolor": "white",
           "zerolinewidth": 2
          }
         }
        },
        "title": {
         "font": {
          "color": "#D9D9D9"
         }
        },
        "xaxis": {
         "gridcolor": "#434343",
         "showgrid": true,
         "tickfont": {
          "color": "#C2C2C2"
         },
         "title": {
          "font": {
           "color": "#D9D9D9"
          },
          "text": ""
         },
         "zerolinecolor": "#666570"
        },
        "yaxis": {
         "gridcolor": "#434343",
         "showgrid": true,
         "tickfont": {
          "color": "#C2C2C2"
         },
         "title": {
          "font": {
           "color": "#D9D9D9"
          },
          "text": ""
         },
         "zerolinecolor": "#666570"
        }
       }
      },
      "text/html": [
       "<div>\n",
       "        \n",
       "        \n",
       "            <div id=\"19f153ee-9928-4f1d-8281-405738183a10\" class=\"plotly-graph-div\" style=\"height:525px; width:100%;\"></div>\n",
       "            <script type=\"text/javascript\">\n",
       "                require([\"plotly\"], function(Plotly) {\n",
       "                    window.PLOTLYENV=window.PLOTLYENV || {};\n",
       "                    window.PLOTLYENV.BASE_URL='https://plot.ly';\n",
       "                    \n",
       "                if (document.getElementById(\"19f153ee-9928-4f1d-8281-405738183a10\")) {\n",
       "                    Plotly.newPlot(\n",
       "                        '19f153ee-9928-4f1d-8281-405738183a10',\n",
       "                        [{\"line\": {\"color\": \"rgba(255, 153, 51, 1.0)\", \"dash\": \"solid\", \"shape\": \"linear\", \"width\": 1.3}, \"mode\": \"lines\", \"name\": \"A\", \"text\": \"\", \"type\": \"scatter\", \"x\": [0, 1, 2, 3, 4, 5, 6, 7, 8, 9, 10, 11, 12, 13, 14, 15, 16, 17, 18, 19, 20, 21, 22, 23, 24, 25, 26, 27, 28, 29, 30, 31, 32, 33, 34, 35, 36, 37, 38, 39, 40, 41, 42, 43, 44, 45, 46, 47, 48, 49, 50, 51, 52, 53, 54, 55, 56, 57, 58, 59, 60, 61, 62, 63, 64, 65, 66, 67, 68, 69, 70, 71, 72, 73, 74, 75, 76, 77, 78, 79, 80, 81, 82, 83, 84, 85, 86, 87, 88, 89, 90, 91, 92, 93, 94, 95, 96, 97, 98, 99], \"y\": [2.545422582407242, -1.3937426184105661, 0.26378575904145857, -2.59114383866192, 0.7005942339513257, 0.6906337625736656, -1.6215730919189102, -0.49235626177705066, -0.6636156220909869, -0.4883324484507755, -0.14939280758418422, 1.2722819197577828, 0.47683313380722575, 1.6589203410511641, -1.4089899190004231, 0.507717168484866, 0.3687606630266729, -2.166782224199825, -1.0056884558753405, -0.27690652024008733, 0.7687679233310685, -0.06467290306512284, -0.9874967841019978, -1.0341891505149237, -0.41284162509486083, -0.8007994539366524, -0.844284913576002, -0.8613086448894214, 1.2884075862911235, -0.6271693744268715, -0.5360613835782079, 0.6527935465740622, 1.2299625767506608, 0.35987214787303606, -0.3086483173602702, 0.5009593828381066, -0.04429930430005258, -1.1448710022803765, 0.7852383659565874, -0.9073872427571655, 1.3158787006661374, 0.5824959905168052, -1.5411457569857063, 0.7052541463555405, -0.2839650929833752, 0.5952393056602152, 1.1879645426788152, -0.13089026869539028, 0.3739347769602952, -1.956647034236704, -0.9789237772066728, -1.507757964566034, 0.3956100110236365, 0.22903701119745926, -0.11291075468494387, 0.7255540810431677, 0.9769811475585487, -1.9491426701676529, -1.2322868923236587, 1.4060998972657657, -0.34699456971798626, 0.8473122739378478, 1.0714063401158824, -0.023141839890683816, -0.2012493582729275, 0.3323393571158927, -0.0519885935236339, 0.6278527622760888, -0.5152001354957508, 0.5177355937623892, 1.290692561604284, -0.42601293393118533, -0.06826209801312551, 0.19033443258933241, 1.1649479915548133, 1.5895671023130298, 0.35103278238065966, 0.6121649996569845, -0.6568035591982165, -1.0923761638250438, 0.2599460913534371, 2.256216415561148, 1.2007449829456203, -0.4679787961156642, -1.4890740979021118, -0.6806636141368105, -0.30156651857083844, 0.9803404389270307, -0.3479276031920921, 0.4567278166760434, 0.8240546671595746, 0.541441859437552, -1.4945781808369936, -0.6363687405638301, 0.9791762039778981, -1.07019121702315, -0.8699056495327684, 2.5524513390280394, 0.5037614990890081, -0.39307110280189717]}, {\"line\": {\"color\": \"rgba(55, 128, 191, 1.0)\", \"dash\": \"solid\", \"shape\": \"linear\", \"width\": 1.3}, \"mode\": \"lines\", \"name\": \"B\", \"text\": \"\", \"type\": \"scatter\", \"x\": [0, 1, 2, 3, 4, 5, 6, 7, 8, 9, 10, 11, 12, 13, 14, 15, 16, 17, 18, 19, 20, 21, 22, 23, 24, 25, 26, 27, 28, 29, 30, 31, 32, 33, 34, 35, 36, 37, 38, 39, 40, 41, 42, 43, 44, 45, 46, 47, 48, 49, 50, 51, 52, 53, 54, 55, 56, 57, 58, 59, 60, 61, 62, 63, 64, 65, 66, 67, 68, 69, 70, 71, 72, 73, 74, 75, 76, 77, 78, 79, 80, 81, 82, 83, 84, 85, 86, 87, 88, 89, 90, 91, 92, 93, 94, 95, 96, 97, 98, 99], \"y\": [-1.3698890222810864, 1.468858226697031, -2.6775093161924106, 2.6241296660970663, 0.36396515145614833, 0.3520629303225804, -0.7575791694752321, 2.575135611628122, -0.6374169471104104, -0.7873637294197173, 0.17128193625513832, -0.1569106139599138, -0.5524072005161004, 0.5363407176083834, -1.1605444013434016, -0.06381351188272445, -0.11007476652781922, -1.6466983523826277, 0.8297660957379236, -0.525067589968808, 0.1952508945149842, -0.8627590608084271, -0.3810151729583025, 1.0820680379967602, -0.018438217361609763, -1.747439986749667, -1.7818610495098255, -1.0077172781070205, 0.6844957314986179, -1.137152163522632, -2.510367083697795, 0.25573166478842774, 0.564344055849764, 0.20787699339796484, 1.0584871609492743, 1.8883373700972605, -1.7754804028114084, -1.2512264718364745, 0.9840315811897672, 0.5417670529857127, 0.8770070204160135, 0.14642313666191561, 0.03895081980992235, 0.10213459428829191, -0.008328448673564352, 0.4685210582488976, -0.3704953311201001, 0.5557369466822102, 1.077599126414049, -0.2832377420817606, 0.24298155997715376, 0.05303988234374131, -1.7118138700341363, -0.38319044080328235, 1.2589329093016373, 0.762645125882802, -0.6720150977058493, 0.4683292203577614, 0.11797893083664346, -0.9091258133627241, -0.3707570381436423, -1.081413106910501, -0.1132846989782559, -0.2110284505218709, 0.8595392663683861, 1.100151861281265, -0.6033914758361275, -0.334168079556354, -1.9613106650302627, 1.2482021521414892, 0.6715303182078085, -1.400114889845324, 1.3366083193675247, -0.2678701330564599, 0.900882535433926, 0.31571107008065635, 1.0436163272878745, -1.2047758374838367, 1.1298629508776705, 0.8371023927309843, -0.11482888849938674, 0.4916375480786155, -1.0515548992867758, 0.22551417755546335, 0.20970097094640894, 1.1873962316040105, -0.5122900729203552, -0.31159957295842766, 0.3396703270248756, -2.5539721053966162, -0.2751434384009007, 0.9226963049449596, -0.9303751719605092, -1.4642734225016258, 0.9429516650299584, 1.8928590193045884, -0.23491886231991851, 1.0995855438394793, -0.2698472858657239, -0.08829214800183324]}, {\"line\": {\"color\": \"rgba(50, 171, 96, 1.0)\", \"dash\": \"solid\", \"shape\": \"linear\", \"width\": 1.3}, \"mode\": \"lines\", \"name\": \"C\", \"text\": \"\", \"type\": \"scatter\", \"x\": [0, 1, 2, 3, 4, 5, 6, 7, 8, 9, 10, 11, 12, 13, 14, 15, 16, 17, 18, 19, 20, 21, 22, 23, 24, 25, 26, 27, 28, 29, 30, 31, 32, 33, 34, 35, 36, 37, 38, 39, 40, 41, 42, 43, 44, 45, 46, 47, 48, 49, 50, 51, 52, 53, 54, 55, 56, 57, 58, 59, 60, 61, 62, 63, 64, 65, 66, 67, 68, 69, 70, 71, 72, 73, 74, 75, 76, 77, 78, 79, 80, 81, 82, 83, 84, 85, 86, 87, 88, 89, 90, 91, 92, 93, 94, 95, 96, 97, 98, 99], \"y\": [-0.30680774773262376, 1.633399127120363, -0.7523668499527457, 1.9365741667944165, -1.5831238482144114, -0.3899568914179634, 0.35722012931207536, 0.37113947553914595, -0.7490233337619386, 0.9584223942399508, -0.3149880604456857, 1.008877030698152, 0.322329684357028, -1.4198625901820727, 0.8655747023700909, 0.32000044850637754, 0.9710106067657722, 0.23036067563712437, -0.4988114537675237, 0.7591295579948435, -1.0389575028120717, -0.9776836324323516, 0.012535891540553984, -1.102094479204576, -0.8384493051060692, -0.6341969446663335, -0.4839514453030405, 1.423298273630135, 1.6410317471362004, 1.4413575370579317, 0.002944888854924175, 0.03304617349668435, 0.9010151842560247, 0.4029861466573547, 0.9974967277043864, 1.2839759929042303, 0.34597647068202, 1.9042762865343206, 0.5458989655383707, 1.8501050053869441, 0.13241741478953525, -0.41966697170977957, -0.4567259815443119, -0.1722769215219067, -0.09778550144737476, 0.39102698832866317, 1.640227942094042, -1.3785134138408066, 1.20657833806153, 0.05771406538714777, 0.8273862858405309, 0.07565670752968497, 1.5497085192840254, 0.8624223229819158, -1.8753175763961611, 0.6060355758675859, -1.4725453269924185, 0.19713013564838006, 1.1890692050306833, 0.9540513426252115, -0.07790446673614207, 0.19877946667206886, -0.704700156874286, 0.07606474515554347, -1.2002761125630905, -0.00555228101489527, -0.10259119546328387, -0.2052019904892203, 0.607913435175495, 2.0518834434609, -0.6635131373890969, -0.4636641700393449, 0.11716113654787197, -0.48611612747896865, 0.6429303339261597, 0.6003655581689678, 0.28181569544646096, -1.3434905501550243, 0.25884283374425043, 0.7865514494765606, -1.3719100878174488, 0.033787830879164885, 0.0796049345171118, 1.835024429106111, -0.07052019721713777, -0.44236984981668914, 0.7544448130083827, 2.3229771251341305, 0.09960529799696517, 0.02340961129360203, -1.9287506379314256, -1.9193161457248458, 0.18102205535627025, 0.47075993024867313, 1.2260642707857998, 0.30270513903776763, -0.04829216987211699, 0.25348951419846316, 0.7703893115596518, 0.59952361085234]}],\n",
       "                        {\"legend\": {\"bgcolor\": \"#151516\", \"font\": {\"color\": \"#D9D9D9\"}}, \"paper_bgcolor\": \"#151516\", \"plot_bgcolor\": \"#151516\", \"template\": {\"data\": {\"bar\": [{\"error_x\": {\"color\": \"#2a3f5f\"}, \"error_y\": {\"color\": \"#2a3f5f\"}, \"marker\": {\"line\": {\"color\": \"#E5ECF6\", \"width\": 0.5}}, \"type\": \"bar\"}], \"barpolar\": [{\"marker\": {\"line\": {\"color\": \"#E5ECF6\", \"width\": 0.5}}, \"type\": \"barpolar\"}], \"carpet\": [{\"aaxis\": {\"endlinecolor\": \"#2a3f5f\", \"gridcolor\": \"white\", \"linecolor\": \"white\", \"minorgridcolor\": \"white\", \"startlinecolor\": \"#2a3f5f\"}, \"baxis\": {\"endlinecolor\": \"#2a3f5f\", \"gridcolor\": \"white\", \"linecolor\": \"white\", \"minorgridcolor\": \"white\", \"startlinecolor\": \"#2a3f5f\"}, \"type\": \"carpet\"}], \"choropleth\": [{\"colorbar\": {\"outlinewidth\": 0, \"ticks\": \"\"}, \"type\": \"choropleth\"}], \"contour\": [{\"colorbar\": {\"outlinewidth\": 0, \"ticks\": \"\"}, \"colorscale\": [[0.0, \"#0d0887\"], [0.1111111111111111, \"#46039f\"], [0.2222222222222222, \"#7201a8\"], [0.3333333333333333, \"#9c179e\"], [0.4444444444444444, \"#bd3786\"], [0.5555555555555556, \"#d8576b\"], [0.6666666666666666, \"#ed7953\"], [0.7777777777777778, \"#fb9f3a\"], [0.8888888888888888, \"#fdca26\"], [1.0, \"#f0f921\"]], \"type\": \"contour\"}], \"contourcarpet\": [{\"colorbar\": {\"outlinewidth\": 0, \"ticks\": \"\"}, \"type\": \"contourcarpet\"}], \"heatmap\": [{\"colorbar\": {\"outlinewidth\": 0, \"ticks\": \"\"}, \"colorscale\": [[0.0, \"#0d0887\"], [0.1111111111111111, \"#46039f\"], [0.2222222222222222, \"#7201a8\"], [0.3333333333333333, \"#9c179e\"], [0.4444444444444444, \"#bd3786\"], [0.5555555555555556, \"#d8576b\"], [0.6666666666666666, \"#ed7953\"], [0.7777777777777778, \"#fb9f3a\"], [0.8888888888888888, \"#fdca26\"], [1.0, \"#f0f921\"]], \"type\": \"heatmap\"}], \"heatmapgl\": [{\"colorbar\": {\"outlinewidth\": 0, \"ticks\": \"\"}, \"colorscale\": [[0.0, \"#0d0887\"], [0.1111111111111111, \"#46039f\"], [0.2222222222222222, \"#7201a8\"], [0.3333333333333333, \"#9c179e\"], [0.4444444444444444, \"#bd3786\"], [0.5555555555555556, \"#d8576b\"], [0.6666666666666666, \"#ed7953\"], [0.7777777777777778, \"#fb9f3a\"], [0.8888888888888888, \"#fdca26\"], [1.0, \"#f0f921\"]], \"type\": \"heatmapgl\"}], \"histogram\": [{\"marker\": {\"colorbar\": {\"outlinewidth\": 0, \"ticks\": \"\"}}, \"type\": \"histogram\"}], \"histogram2d\": [{\"colorbar\": {\"outlinewidth\": 0, \"ticks\": \"\"}, \"colorscale\": [[0.0, \"#0d0887\"], [0.1111111111111111, \"#46039f\"], [0.2222222222222222, \"#7201a8\"], [0.3333333333333333, \"#9c179e\"], [0.4444444444444444, \"#bd3786\"], [0.5555555555555556, \"#d8576b\"], [0.6666666666666666, \"#ed7953\"], [0.7777777777777778, \"#fb9f3a\"], [0.8888888888888888, \"#fdca26\"], [1.0, \"#f0f921\"]], \"type\": \"histogram2d\"}], \"histogram2dcontour\": [{\"colorbar\": {\"outlinewidth\": 0, \"ticks\": \"\"}, \"colorscale\": [[0.0, \"#0d0887\"], [0.1111111111111111, \"#46039f\"], [0.2222222222222222, \"#7201a8\"], [0.3333333333333333, \"#9c179e\"], [0.4444444444444444, \"#bd3786\"], [0.5555555555555556, \"#d8576b\"], [0.6666666666666666, \"#ed7953\"], [0.7777777777777778, \"#fb9f3a\"], [0.8888888888888888, \"#fdca26\"], [1.0, \"#f0f921\"]], \"type\": \"histogram2dcontour\"}], \"mesh3d\": [{\"colorbar\": {\"outlinewidth\": 0, \"ticks\": \"\"}, \"type\": \"mesh3d\"}], \"parcoords\": [{\"line\": {\"colorbar\": {\"outlinewidth\": 0, \"ticks\": \"\"}}, \"type\": \"parcoords\"}], \"pie\": [{\"automargin\": true, \"type\": \"pie\"}], \"scatter\": [{\"marker\": {\"colorbar\": {\"outlinewidth\": 0, \"ticks\": \"\"}}, \"type\": \"scatter\"}], \"scatter3d\": [{\"line\": {\"colorbar\": {\"outlinewidth\": 0, \"ticks\": \"\"}}, \"marker\": {\"colorbar\": {\"outlinewidth\": 0, \"ticks\": \"\"}}, \"type\": \"scatter3d\"}], \"scattercarpet\": [{\"marker\": {\"colorbar\": {\"outlinewidth\": 0, \"ticks\": \"\"}}, \"type\": \"scattercarpet\"}], \"scattergeo\": [{\"marker\": {\"colorbar\": {\"outlinewidth\": 0, \"ticks\": \"\"}}, \"type\": \"scattergeo\"}], \"scattergl\": [{\"marker\": {\"colorbar\": {\"outlinewidth\": 0, \"ticks\": \"\"}}, \"type\": \"scattergl\"}], \"scattermapbox\": [{\"marker\": {\"colorbar\": {\"outlinewidth\": 0, \"ticks\": \"\"}}, \"type\": \"scattermapbox\"}], \"scatterpolar\": [{\"marker\": {\"colorbar\": {\"outlinewidth\": 0, \"ticks\": \"\"}}, \"type\": \"scatterpolar\"}], \"scatterpolargl\": [{\"marker\": {\"colorbar\": {\"outlinewidth\": 0, \"ticks\": \"\"}}, \"type\": \"scatterpolargl\"}], \"scatterternary\": [{\"marker\": {\"colorbar\": {\"outlinewidth\": 0, \"ticks\": \"\"}}, \"type\": \"scatterternary\"}], \"surface\": [{\"colorbar\": {\"outlinewidth\": 0, \"ticks\": \"\"}, \"colorscale\": [[0.0, \"#0d0887\"], [0.1111111111111111, \"#46039f\"], [0.2222222222222222, \"#7201a8\"], [0.3333333333333333, \"#9c179e\"], [0.4444444444444444, \"#bd3786\"], [0.5555555555555556, \"#d8576b\"], [0.6666666666666666, \"#ed7953\"], [0.7777777777777778, \"#fb9f3a\"], [0.8888888888888888, \"#fdca26\"], [1.0, \"#f0f921\"]], \"type\": \"surface\"}], \"table\": [{\"cells\": {\"fill\": {\"color\": \"#EBF0F8\"}, \"line\": {\"color\": \"white\"}}, \"header\": {\"fill\": {\"color\": \"#C8D4E3\"}, \"line\": {\"color\": \"white\"}}, \"type\": \"table\"}]}, \"layout\": {\"annotationdefaults\": {\"arrowcolor\": \"#2a3f5f\", \"arrowhead\": 0, \"arrowwidth\": 1}, \"coloraxis\": {\"colorbar\": {\"outlinewidth\": 0, \"ticks\": \"\"}}, \"colorscale\": {\"diverging\": [[0, \"#8e0152\"], [0.1, \"#c51b7d\"], [0.2, \"#de77ae\"], [0.3, \"#f1b6da\"], [0.4, \"#fde0ef\"], [0.5, \"#f7f7f7\"], [0.6, \"#e6f5d0\"], [0.7, \"#b8e186\"], [0.8, \"#7fbc41\"], [0.9, \"#4d9221\"], [1, \"#276419\"]], \"sequential\": [[0.0, \"#0d0887\"], [0.1111111111111111, \"#46039f\"], [0.2222222222222222, \"#7201a8\"], [0.3333333333333333, \"#9c179e\"], [0.4444444444444444, \"#bd3786\"], [0.5555555555555556, \"#d8576b\"], [0.6666666666666666, \"#ed7953\"], [0.7777777777777778, \"#fb9f3a\"], [0.8888888888888888, \"#fdca26\"], [1.0, \"#f0f921\"]], \"sequentialminus\": [[0.0, \"#0d0887\"], [0.1111111111111111, \"#46039f\"], [0.2222222222222222, \"#7201a8\"], [0.3333333333333333, \"#9c179e\"], [0.4444444444444444, \"#bd3786\"], [0.5555555555555556, \"#d8576b\"], [0.6666666666666666, \"#ed7953\"], [0.7777777777777778, \"#fb9f3a\"], [0.8888888888888888, \"#fdca26\"], [1.0, \"#f0f921\"]]}, \"colorway\": [\"#636efa\", \"#EF553B\", \"#00cc96\", \"#ab63fa\", \"#FFA15A\", \"#19d3f3\", \"#FF6692\", \"#B6E880\", \"#FF97FF\", \"#FECB52\"], \"font\": {\"color\": \"#2a3f5f\"}, \"geo\": {\"bgcolor\": \"white\", \"lakecolor\": \"white\", \"landcolor\": \"#E5ECF6\", \"showlakes\": true, \"showland\": true, \"subunitcolor\": \"white\"}, \"hoverlabel\": {\"align\": \"left\"}, \"hovermode\": \"closest\", \"mapbox\": {\"style\": \"light\"}, \"paper_bgcolor\": \"white\", \"plot_bgcolor\": \"#E5ECF6\", \"polar\": {\"angularaxis\": {\"gridcolor\": \"white\", \"linecolor\": \"white\", \"ticks\": \"\"}, \"bgcolor\": \"#E5ECF6\", \"radialaxis\": {\"gridcolor\": \"white\", \"linecolor\": \"white\", \"ticks\": \"\"}}, \"scene\": {\"xaxis\": {\"backgroundcolor\": \"#E5ECF6\", \"gridcolor\": \"white\", \"gridwidth\": 2, \"linecolor\": \"white\", \"showbackground\": true, \"ticks\": \"\", \"zerolinecolor\": \"white\"}, \"yaxis\": {\"backgroundcolor\": \"#E5ECF6\", \"gridcolor\": \"white\", \"gridwidth\": 2, \"linecolor\": \"white\", \"showbackground\": true, \"ticks\": \"\", \"zerolinecolor\": \"white\"}, \"zaxis\": {\"backgroundcolor\": \"#E5ECF6\", \"gridcolor\": \"white\", \"gridwidth\": 2, \"linecolor\": \"white\", \"showbackground\": true, \"ticks\": \"\", \"zerolinecolor\": \"white\"}}, \"shapedefaults\": {\"line\": {\"color\": \"#2a3f5f\"}}, \"ternary\": {\"aaxis\": {\"gridcolor\": \"white\", \"linecolor\": \"white\", \"ticks\": \"\"}, \"baxis\": {\"gridcolor\": \"white\", \"linecolor\": \"white\", \"ticks\": \"\"}, \"bgcolor\": \"#E5ECF6\", \"caxis\": {\"gridcolor\": \"white\", \"linecolor\": \"white\", \"ticks\": \"\"}}, \"title\": {\"x\": 0.05}, \"xaxis\": {\"automargin\": true, \"gridcolor\": \"white\", \"linecolor\": \"white\", \"ticks\": \"\", \"title\": {\"standoff\": 15}, \"zerolinecolor\": \"white\", \"zerolinewidth\": 2}, \"yaxis\": {\"automargin\": true, \"gridcolor\": \"white\", \"linecolor\": \"white\", \"ticks\": \"\", \"title\": {\"standoff\": 15}, \"zerolinecolor\": \"white\", \"zerolinewidth\": 2}}}, \"title\": {\"font\": {\"color\": \"#D9D9D9\"}}, \"xaxis\": {\"gridcolor\": \"#434343\", \"showgrid\": true, \"tickfont\": {\"color\": \"#C2C2C2\"}, \"title\": {\"font\": {\"color\": \"#D9D9D9\"}, \"text\": \"\"}, \"zerolinecolor\": \"#666570\"}, \"yaxis\": {\"gridcolor\": \"#434343\", \"showgrid\": true, \"tickfont\": {\"color\": \"#C2C2C2\"}, \"title\": {\"font\": {\"color\": \"#D9D9D9\"}, \"text\": \"\"}, \"zerolinecolor\": \"#666570\"}},\n",
       "                        {\"responsive\": true, \"plotlyServerURL\": \"https://plot.ly\", \"linkText\": \"Export to plot.ly\", \"showLink\": true}\n",
       "                    ).then(function(){\n",
       "                            \n",
       "var gd = document.getElementById('19f153ee-9928-4f1d-8281-405738183a10');\n",
       "var x = new MutationObserver(function (mutations, observer) {{\n",
       "        var display = window.getComputedStyle(gd).display;\n",
       "        if (!display || display === 'none') {{\n",
       "            console.log([gd, 'removed!']);\n",
       "            Plotly.purge(gd);\n",
       "            observer.disconnect();\n",
       "        }}\n",
       "}});\n",
       "\n",
       "// Listen for the removal of the full notebook cells\n",
       "var notebookContainer = gd.closest('#notebook-container');\n",
       "if (notebookContainer) {{\n",
       "    x.observe(notebookContainer, {childList: true});\n",
       "}}\n",
       "\n",
       "// Listen for the clearing of the current output cell\n",
       "var outputEl = gd.closest('.output');\n",
       "if (outputEl) {{\n",
       "    x.observe(outputEl, {childList: true});\n",
       "}}\n",
       "\n",
       "                        })\n",
       "                };\n",
       "                });\n",
       "            </script>\n",
       "        </div>"
      ]
     },
     "metadata": {},
     "output_type": "display_data"
    }
   ],
   "source": [
    "df.iplot()"
   ]
  },
  {
   "cell_type": "code",
   "execution_count": 10,
   "metadata": {},
   "outputs": [
    {
     "data": {
      "text/html": [
       "<div>\n",
       "<style scoped>\n",
       "    .dataframe tbody tr th:only-of-type {\n",
       "        vertical-align: middle;\n",
       "    }\n",
       "\n",
       "    .dataframe tbody tr th {\n",
       "        vertical-align: top;\n",
       "    }\n",
       "\n",
       "    .dataframe thead th {\n",
       "        text-align: right;\n",
       "    }\n",
       "</style>\n",
       "<table border=\"1\" class=\"dataframe\">\n",
       "  <thead>\n",
       "    <tr style=\"text-align: right;\">\n",
       "      <th></th>\n",
       "      <th>A</th>\n",
       "      <th>B</th>\n",
       "      <th>C</th>\n",
       "    </tr>\n",
       "  </thead>\n",
       "  <tbody>\n",
       "    <tr>\n",
       "      <th>0</th>\n",
       "      <td>-0.601110</td>\n",
       "      <td>-1.640044</td>\n",
       "      <td>-1.634118</td>\n",
       "    </tr>\n",
       "    <tr>\n",
       "      <th>1</th>\n",
       "      <td>-0.906137</td>\n",
       "      <td>-1.156672</td>\n",
       "      <td>-1.272118</td>\n",
       "    </tr>\n",
       "    <tr>\n",
       "      <th>2</th>\n",
       "      <td>-0.622739</td>\n",
       "      <td>0.475872</td>\n",
       "      <td>1.866161</td>\n",
       "    </tr>\n",
       "    <tr>\n",
       "      <th>3</th>\n",
       "      <td>-0.547634</td>\n",
       "      <td>0.010341</td>\n",
       "      <td>-0.346398</td>\n",
       "    </tr>\n",
       "    <tr>\n",
       "      <th>4</th>\n",
       "      <td>-1.744123</td>\n",
       "      <td>0.552052</td>\n",
       "      <td>1.480918</td>\n",
       "    </tr>\n",
       "  </tbody>\n",
       "</table>\n",
       "</div>"
      ],
      "text/plain": [
       "          A         B         C\n",
       "0 -0.601110 -1.640044 -1.634118\n",
       "1 -0.906137 -1.156672 -1.272118\n",
       "2 -0.622739  0.475872  1.866161\n",
       "3 -0.547634  0.010341 -0.346398\n",
       "4 -1.744123  0.552052  1.480918"
      ]
     },
     "execution_count": 10,
     "metadata": {},
     "output_type": "execute_result"
    }
   ],
   "source": [
    "df = pd.DataFrame(np.random.randn(100,3), columns =['A', 'B', 'C'])\n",
    "df.head()     "
   ]
  },
  {
   "cell_type": "code",
   "execution_count": 11,
   "metadata": {},
   "outputs": [
    {
     "data": {
      "application/vnd.plotly.v1+json": {
       "config": {
        "linkText": "Export to plot.ly",
        "plotlyServerURL": "https://plot.ly",
        "showLink": true
       },
       "data": [
        {
         "line": {
          "color": "rgba(255, 153, 51, 1.0)",
          "dash": "solid",
          "shape": "linear",
          "width": 1.3
         },
         "mode": "lines",
         "name": "A",
         "text": "",
         "type": "scatter",
         "x": [
          0,
          1,
          2,
          3,
          4,
          5,
          6,
          7,
          8,
          9,
          10,
          11,
          12,
          13,
          14,
          15,
          16,
          17,
          18,
          19,
          20,
          21,
          22,
          23,
          24,
          25,
          26,
          27,
          28,
          29,
          30,
          31,
          32,
          33,
          34,
          35,
          36,
          37,
          38,
          39,
          40,
          41,
          42,
          43,
          44,
          45,
          46,
          47,
          48,
          49,
          50,
          51,
          52,
          53,
          54,
          55,
          56,
          57,
          58,
          59,
          60,
          61,
          62,
          63,
          64,
          65,
          66,
          67,
          68,
          69,
          70,
          71,
          72,
          73,
          74,
          75,
          76,
          77,
          78,
          79,
          80,
          81,
          82,
          83,
          84,
          85,
          86,
          87,
          88,
          89,
          90,
          91,
          92,
          93,
          94,
          95,
          96,
          97,
          98,
          99
         ],
         "y": [
          -0.6011099913123015,
          -0.9061368227135002,
          -0.622739130629514,
          -0.5476343014925009,
          -1.7441232252546275,
          -1.7695478496495958,
          -0.1679053760587666,
          0.006578299868527192,
          -0.9175425507089469,
          -0.9669160172092781,
          -0.07081216587417276,
          1.1122994864540485,
          -0.41014878551173,
          1.0122156581440183,
          -1.727938944171904,
          0.7642778648625298,
          0.46609901623107153,
          1.0700127161967035,
          0.3089565299369573,
          1.276352827207012,
          0.16229278865804173,
          0.3466772796368672,
          0.4828178196687212,
          0.920439856684899,
          -0.4562931346302487,
          0.615341379977352,
          -1.8870849916176171,
          0.04985612823662639,
          -0.46331506866868494,
          0.9687253963563367,
          -2.7667726590213713,
          -0.16754979437809386,
          -0.15106665950602802,
          -0.45075544216935176,
          -0.12442507995282481,
          -1.81267952152951,
          1.4419268659062943,
          1.4410269671524987,
          0.7148307378995654,
          1.5005812415986526,
          -0.2538856560253225,
          0.034358301312154206,
          0.5963568405734568,
          0.0377084626805706,
          -0.9592676019587656,
          -2.7285710765723423,
          -0.4972412372405736,
          0.07766375915856223,
          0.20928329097160311,
          -0.08587334575904976,
          -1.8530259274446648,
          -0.37225477538664803,
          1.2825503134919753,
          2.1898895374266036,
          -0.6107521099408265,
          0.20136696390958303,
          -0.10844191053316411,
          -0.5346153604621676,
          -2.1911210813743125,
          -1.4846693529633752,
          -0.4916004958909923,
          0.20985812584717076,
          0.2370581850538255,
          -0.5815483861306942,
          -0.525413034672379,
          1.1995063037947686,
          -0.46702417510910454,
          -2.48796083733352,
          0.32445351165975217,
          -0.08715568736890261,
          -0.01781119036754565,
          -0.16882039758879908,
          1.0708419803775542,
          -1.3002362029091274,
          -0.7894811128371826,
          -0.37535642736973107,
          -0.9981809510522045,
          0.04583319961521298,
          -0.5915943783583036,
          0.5176942555359928,
          -1.6709073744963205,
          0.348491653204736,
          -2.1216570241340147,
          0.5392016312048196,
          0.06740653559086172,
          -1.2635223758430463,
          -1.2097944936355027,
          0.207540740285147,
          0.08599723946336596,
          -1.0284194654647787,
          -0.6644014895212105,
          -0.5433558520303751,
          -0.01445283772638302,
          0.9452938352595834,
          -0.9908006089532247,
          0.6990937104090416,
          1.5034455378824783,
          -1.3662629382651668,
          -1.3174107146122642,
          0.7212568980193038
         ]
        },
        {
         "line": {
          "color": "rgba(55, 128, 191, 1.0)",
          "dash": "solid",
          "shape": "linear",
          "width": 1.3
         },
         "mode": "lines",
         "name": "B",
         "text": "",
         "type": "scatter",
         "x": [
          0,
          1,
          2,
          3,
          4,
          5,
          6,
          7,
          8,
          9,
          10,
          11,
          12,
          13,
          14,
          15,
          16,
          17,
          18,
          19,
          20,
          21,
          22,
          23,
          24,
          25,
          26,
          27,
          28,
          29,
          30,
          31,
          32,
          33,
          34,
          35,
          36,
          37,
          38,
          39,
          40,
          41,
          42,
          43,
          44,
          45,
          46,
          47,
          48,
          49,
          50,
          51,
          52,
          53,
          54,
          55,
          56,
          57,
          58,
          59,
          60,
          61,
          62,
          63,
          64,
          65,
          66,
          67,
          68,
          69,
          70,
          71,
          72,
          73,
          74,
          75,
          76,
          77,
          78,
          79,
          80,
          81,
          82,
          83,
          84,
          85,
          86,
          87,
          88,
          89,
          90,
          91,
          92,
          93,
          94,
          95,
          96,
          97,
          98,
          99
         ],
         "y": [
          -1.6400440779176249,
          -1.1566717983452504,
          0.47587173489572854,
          0.01034082107385275,
          0.5520524425138111,
          -1.6556046424248085,
          -0.44281471185025967,
          -0.5298903712704978,
          0.3801883239949968,
          -0.364773169617736,
          1.2667886436454368,
          1.300481579770993,
          -0.47828408207701045,
          -0.7067749377834774,
          -0.4019675804658203,
          -0.06670293789876901,
          1.607596194237788,
          0.06477411103193899,
          -0.8435271923875569,
          0.4732939397369666,
          0.8736536165753612,
          -0.23728699126823105,
          0.19974755873972794,
          0.20699497566505878,
          0.052659275608236064,
          -0.41746825348455807,
          1.8947588940176912,
          1.9707255922646414,
          -1.2514355136607127,
          1.3316604765731617,
          -0.15897564088182448,
          1.0829140994883528,
          -1.1007835888651358,
          -0.13712543179707623,
          0.18836790028749484,
          1.4820665470865384,
          0.14185666975591696,
          0.06765376226767851,
          -0.845686997220129,
          0.6919299021848623,
          -0.020399968917961423,
          0.9091453762824374,
          -0.9545206031920954,
          1.754967487350685,
          2.486765624814003,
          -1.9816037248208525,
          -1.0075765437503943,
          -0.054951091218345544,
          -1.059099808279218,
          0.305836614943648,
          -0.2929698562118602,
          1.8841550594663186,
          -0.9811208068187062,
          -0.6803616786984858,
          0.4694005996998628,
          -1.1125496231289231,
          -0.9746005243245078,
          1.4663562990615222,
          -1.2482491210132751,
          -1.3402047014294416,
          -0.014122308501327811,
          -0.16381977845564727,
          -0.08179404054793828,
          0.19674889272632523,
          -0.01626064510855291,
          -1.9175350604364156,
          -0.5927607557816957,
          1.004226547491237,
          -2.308720635492863,
          0.20005281893357074,
          -0.6843557229886793,
          -0.01280159008429053,
          -0.029534488419429367,
          0.4115653937637577,
          1.0190580412314618,
          -0.8072039254575217,
          1.5539235596728163,
          -1.0556134610377834,
          0.3235385904819584,
          -1.9822662446696504,
          1.5992906232388313,
          1.7055890498272988,
          -1.3357080648630286,
          0.13735079521852453,
          -0.6100811048426881,
          -0.10938954619050453,
          -0.33388991397572926,
          -0.5952709548655313,
          -1.0166372367419907,
          -0.9808294903633031,
          -0.710953834569665,
          0.9403476222128613,
          0.1797080736220253,
          -0.26901028715883035,
          0.6910321569264278,
          0.18191433612707977,
          -0.7014964292372887,
          0.8041402921254703,
          -1.0466512907652479,
          -1.157682483474176
         ]
        },
        {
         "line": {
          "color": "rgba(50, 171, 96, 1.0)",
          "dash": "solid",
          "shape": "linear",
          "width": 1.3
         },
         "mode": "lines",
         "name": "C",
         "text": "",
         "type": "scatter",
         "x": [
          0,
          1,
          2,
          3,
          4,
          5,
          6,
          7,
          8,
          9,
          10,
          11,
          12,
          13,
          14,
          15,
          16,
          17,
          18,
          19,
          20,
          21,
          22,
          23,
          24,
          25,
          26,
          27,
          28,
          29,
          30,
          31,
          32,
          33,
          34,
          35,
          36,
          37,
          38,
          39,
          40,
          41,
          42,
          43,
          44,
          45,
          46,
          47,
          48,
          49,
          50,
          51,
          52,
          53,
          54,
          55,
          56,
          57,
          58,
          59,
          60,
          61,
          62,
          63,
          64,
          65,
          66,
          67,
          68,
          69,
          70,
          71,
          72,
          73,
          74,
          75,
          76,
          77,
          78,
          79,
          80,
          81,
          82,
          83,
          84,
          85,
          86,
          87,
          88,
          89,
          90,
          91,
          92,
          93,
          94,
          95,
          96,
          97,
          98,
          99
         ],
         "y": [
          -1.634117878546224,
          -1.2721184709950457,
          1.8661606761136482,
          -0.34639818362089503,
          1.48091795022614,
          1.5800930740854773,
          0.7460872826154493,
          1.6227200069305656,
          0.031202191203062588,
          -0.3775100381437675,
          -1.948418271970715,
          -0.501515387765138,
          -0.14214680580798922,
          0.502268314564065,
          -0.49169858463582816,
          0.6555250625513114,
          -1.8934257116561999,
          0.16100190048071616,
          -1.2076552912522773,
          1.5581404684608358,
          0.20093813506473845,
          -0.31458575693756485,
          1.3867646219887726,
          1.1956373981398967,
          -1.3803287836345233,
          -0.5382385592170617,
          -0.16992552654750323,
          -1.582836329217932,
          0.49245367474079804,
          0.5154738283872007,
          0.5910945576622015,
          -0.5618094270325754,
          0.42175535274898235,
          1.142121523418791,
          -0.3197452524500797,
          0.30922006812695985,
          0.06338326264444909,
          0.20596170231932304,
          -0.2524466446708707,
          -0.9065787182640465,
          1.586016717604576,
          0.22760713674083172,
          1.7882922077946597,
          0.34793703052630987,
          -0.25740282423477956,
          0.30687868287368825,
          1.672014630213277,
          -0.1495243496535789,
          2.4910293583884946,
          -0.41461380806946124,
          -0.9485529040564615,
          -0.5957470074274995,
          0.6118724446237783,
          -0.6407529242817639,
          -0.19216265579325034,
          -0.861711025374878,
          -0.48893851843417135,
          -0.6195165904074578,
          1.0380598916135229,
          0.4923455259037159,
          0.9883684708400364,
          1.6531567737411421,
          0.341357328830314,
          -0.513353918988113,
          0.5641745122600343,
          1.8752926959794125,
          -0.32977630784126966,
          2.0246756033311835,
          -0.5568447128196752,
          1.6505429169755406,
          -1.236271690344277,
          -0.07232252990152534,
          0.8998861166588435,
          -1.0332066390415617,
          -0.03583713664415597,
          -1.023845748783684,
          1.950658484593939,
          -0.5987235999965753,
          0.20768109528132464,
          -0.7570970290461405,
          -0.6758359133665035,
          0.7046629579761289,
          0.3647097569667476,
          -0.47480910585152086,
          -0.2893229913664134,
          0.8125649928197166,
          -0.38841467817814024,
          -0.5699291240678422,
          1.36951599405538,
          -0.01747690435655196,
          0.9564194980577708,
          -0.9502320616379818,
          0.8299897664391195,
          -2.151829446760187,
          0.9285758800326066,
          -1.0949614214259358,
          0.3620051800411064,
          0.20469070405629644,
          -0.23177026763966235,
          -0.1759037776110075
         ]
        }
       ],
       "layout": {
        "legend": {
         "bgcolor": "#151516",
         "font": {
          "color": "#D9D9D9"
         }
        },
        "paper_bgcolor": "#151516",
        "plot_bgcolor": "#151516",
        "template": {
         "data": {
          "bar": [
           {
            "error_x": {
             "color": "#2a3f5f"
            },
            "error_y": {
             "color": "#2a3f5f"
            },
            "marker": {
             "line": {
              "color": "#E5ECF6",
              "width": 0.5
             }
            },
            "type": "bar"
           }
          ],
          "barpolar": [
           {
            "marker": {
             "line": {
              "color": "#E5ECF6",
              "width": 0.5
             }
            },
            "type": "barpolar"
           }
          ],
          "carpet": [
           {
            "aaxis": {
             "endlinecolor": "#2a3f5f",
             "gridcolor": "white",
             "linecolor": "white",
             "minorgridcolor": "white",
             "startlinecolor": "#2a3f5f"
            },
            "baxis": {
             "endlinecolor": "#2a3f5f",
             "gridcolor": "white",
             "linecolor": "white",
             "minorgridcolor": "white",
             "startlinecolor": "#2a3f5f"
            },
            "type": "carpet"
           }
          ],
          "choropleth": [
           {
            "colorbar": {
             "outlinewidth": 0,
             "ticks": ""
            },
            "type": "choropleth"
           }
          ],
          "contour": [
           {
            "colorbar": {
             "outlinewidth": 0,
             "ticks": ""
            },
            "colorscale": [
             [
              0,
              "#0d0887"
             ],
             [
              0.1111111111111111,
              "#46039f"
             ],
             [
              0.2222222222222222,
              "#7201a8"
             ],
             [
              0.3333333333333333,
              "#9c179e"
             ],
             [
              0.4444444444444444,
              "#bd3786"
             ],
             [
              0.5555555555555556,
              "#d8576b"
             ],
             [
              0.6666666666666666,
              "#ed7953"
             ],
             [
              0.7777777777777778,
              "#fb9f3a"
             ],
             [
              0.8888888888888888,
              "#fdca26"
             ],
             [
              1,
              "#f0f921"
             ]
            ],
            "type": "contour"
           }
          ],
          "contourcarpet": [
           {
            "colorbar": {
             "outlinewidth": 0,
             "ticks": ""
            },
            "type": "contourcarpet"
           }
          ],
          "heatmap": [
           {
            "colorbar": {
             "outlinewidth": 0,
             "ticks": ""
            },
            "colorscale": [
             [
              0,
              "#0d0887"
             ],
             [
              0.1111111111111111,
              "#46039f"
             ],
             [
              0.2222222222222222,
              "#7201a8"
             ],
             [
              0.3333333333333333,
              "#9c179e"
             ],
             [
              0.4444444444444444,
              "#bd3786"
             ],
             [
              0.5555555555555556,
              "#d8576b"
             ],
             [
              0.6666666666666666,
              "#ed7953"
             ],
             [
              0.7777777777777778,
              "#fb9f3a"
             ],
             [
              0.8888888888888888,
              "#fdca26"
             ],
             [
              1,
              "#f0f921"
             ]
            ],
            "type": "heatmap"
           }
          ],
          "heatmapgl": [
           {
            "colorbar": {
             "outlinewidth": 0,
             "ticks": ""
            },
            "colorscale": [
             [
              0,
              "#0d0887"
             ],
             [
              0.1111111111111111,
              "#46039f"
             ],
             [
              0.2222222222222222,
              "#7201a8"
             ],
             [
              0.3333333333333333,
              "#9c179e"
             ],
             [
              0.4444444444444444,
              "#bd3786"
             ],
             [
              0.5555555555555556,
              "#d8576b"
             ],
             [
              0.6666666666666666,
              "#ed7953"
             ],
             [
              0.7777777777777778,
              "#fb9f3a"
             ],
             [
              0.8888888888888888,
              "#fdca26"
             ],
             [
              1,
              "#f0f921"
             ]
            ],
            "type": "heatmapgl"
           }
          ],
          "histogram": [
           {
            "marker": {
             "colorbar": {
              "outlinewidth": 0,
              "ticks": ""
             }
            },
            "type": "histogram"
           }
          ],
          "histogram2d": [
           {
            "colorbar": {
             "outlinewidth": 0,
             "ticks": ""
            },
            "colorscale": [
             [
              0,
              "#0d0887"
             ],
             [
              0.1111111111111111,
              "#46039f"
             ],
             [
              0.2222222222222222,
              "#7201a8"
             ],
             [
              0.3333333333333333,
              "#9c179e"
             ],
             [
              0.4444444444444444,
              "#bd3786"
             ],
             [
              0.5555555555555556,
              "#d8576b"
             ],
             [
              0.6666666666666666,
              "#ed7953"
             ],
             [
              0.7777777777777778,
              "#fb9f3a"
             ],
             [
              0.8888888888888888,
              "#fdca26"
             ],
             [
              1,
              "#f0f921"
             ]
            ],
            "type": "histogram2d"
           }
          ],
          "histogram2dcontour": [
           {
            "colorbar": {
             "outlinewidth": 0,
             "ticks": ""
            },
            "colorscale": [
             [
              0,
              "#0d0887"
             ],
             [
              0.1111111111111111,
              "#46039f"
             ],
             [
              0.2222222222222222,
              "#7201a8"
             ],
             [
              0.3333333333333333,
              "#9c179e"
             ],
             [
              0.4444444444444444,
              "#bd3786"
             ],
             [
              0.5555555555555556,
              "#d8576b"
             ],
             [
              0.6666666666666666,
              "#ed7953"
             ],
             [
              0.7777777777777778,
              "#fb9f3a"
             ],
             [
              0.8888888888888888,
              "#fdca26"
             ],
             [
              1,
              "#f0f921"
             ]
            ],
            "type": "histogram2dcontour"
           }
          ],
          "mesh3d": [
           {
            "colorbar": {
             "outlinewidth": 0,
             "ticks": ""
            },
            "type": "mesh3d"
           }
          ],
          "parcoords": [
           {
            "line": {
             "colorbar": {
              "outlinewidth": 0,
              "ticks": ""
             }
            },
            "type": "parcoords"
           }
          ],
          "pie": [
           {
            "automargin": true,
            "type": "pie"
           }
          ],
          "scatter": [
           {
            "marker": {
             "colorbar": {
              "outlinewidth": 0,
              "ticks": ""
             }
            },
            "type": "scatter"
           }
          ],
          "scatter3d": [
           {
            "line": {
             "colorbar": {
              "outlinewidth": 0,
              "ticks": ""
             }
            },
            "marker": {
             "colorbar": {
              "outlinewidth": 0,
              "ticks": ""
             }
            },
            "type": "scatter3d"
           }
          ],
          "scattercarpet": [
           {
            "marker": {
             "colorbar": {
              "outlinewidth": 0,
              "ticks": ""
             }
            },
            "type": "scattercarpet"
           }
          ],
          "scattergeo": [
           {
            "marker": {
             "colorbar": {
              "outlinewidth": 0,
              "ticks": ""
             }
            },
            "type": "scattergeo"
           }
          ],
          "scattergl": [
           {
            "marker": {
             "colorbar": {
              "outlinewidth": 0,
              "ticks": ""
             }
            },
            "type": "scattergl"
           }
          ],
          "scattermapbox": [
           {
            "marker": {
             "colorbar": {
              "outlinewidth": 0,
              "ticks": ""
             }
            },
            "type": "scattermapbox"
           }
          ],
          "scatterpolar": [
           {
            "marker": {
             "colorbar": {
              "outlinewidth": 0,
              "ticks": ""
             }
            },
            "type": "scatterpolar"
           }
          ],
          "scatterpolargl": [
           {
            "marker": {
             "colorbar": {
              "outlinewidth": 0,
              "ticks": ""
             }
            },
            "type": "scatterpolargl"
           }
          ],
          "scatterternary": [
           {
            "marker": {
             "colorbar": {
              "outlinewidth": 0,
              "ticks": ""
             }
            },
            "type": "scatterternary"
           }
          ],
          "surface": [
           {
            "colorbar": {
             "outlinewidth": 0,
             "ticks": ""
            },
            "colorscale": [
             [
              0,
              "#0d0887"
             ],
             [
              0.1111111111111111,
              "#46039f"
             ],
             [
              0.2222222222222222,
              "#7201a8"
             ],
             [
              0.3333333333333333,
              "#9c179e"
             ],
             [
              0.4444444444444444,
              "#bd3786"
             ],
             [
              0.5555555555555556,
              "#d8576b"
             ],
             [
              0.6666666666666666,
              "#ed7953"
             ],
             [
              0.7777777777777778,
              "#fb9f3a"
             ],
             [
              0.8888888888888888,
              "#fdca26"
             ],
             [
              1,
              "#f0f921"
             ]
            ],
            "type": "surface"
           }
          ],
          "table": [
           {
            "cells": {
             "fill": {
              "color": "#EBF0F8"
             },
             "line": {
              "color": "white"
             }
            },
            "header": {
             "fill": {
              "color": "#C8D4E3"
             },
             "line": {
              "color": "white"
             }
            },
            "type": "table"
           }
          ]
         },
         "layout": {
          "annotationdefaults": {
           "arrowcolor": "#2a3f5f",
           "arrowhead": 0,
           "arrowwidth": 1
          },
          "coloraxis": {
           "colorbar": {
            "outlinewidth": 0,
            "ticks": ""
           }
          },
          "colorscale": {
           "diverging": [
            [
             0,
             "#8e0152"
            ],
            [
             0.1,
             "#c51b7d"
            ],
            [
             0.2,
             "#de77ae"
            ],
            [
             0.3,
             "#f1b6da"
            ],
            [
             0.4,
             "#fde0ef"
            ],
            [
             0.5,
             "#f7f7f7"
            ],
            [
             0.6,
             "#e6f5d0"
            ],
            [
             0.7,
             "#b8e186"
            ],
            [
             0.8,
             "#7fbc41"
            ],
            [
             0.9,
             "#4d9221"
            ],
            [
             1,
             "#276419"
            ]
           ],
           "sequential": [
            [
             0,
             "#0d0887"
            ],
            [
             0.1111111111111111,
             "#46039f"
            ],
            [
             0.2222222222222222,
             "#7201a8"
            ],
            [
             0.3333333333333333,
             "#9c179e"
            ],
            [
             0.4444444444444444,
             "#bd3786"
            ],
            [
             0.5555555555555556,
             "#d8576b"
            ],
            [
             0.6666666666666666,
             "#ed7953"
            ],
            [
             0.7777777777777778,
             "#fb9f3a"
            ],
            [
             0.8888888888888888,
             "#fdca26"
            ],
            [
             1,
             "#f0f921"
            ]
           ],
           "sequentialminus": [
            [
             0,
             "#0d0887"
            ],
            [
             0.1111111111111111,
             "#46039f"
            ],
            [
             0.2222222222222222,
             "#7201a8"
            ],
            [
             0.3333333333333333,
             "#9c179e"
            ],
            [
             0.4444444444444444,
             "#bd3786"
            ],
            [
             0.5555555555555556,
             "#d8576b"
            ],
            [
             0.6666666666666666,
             "#ed7953"
            ],
            [
             0.7777777777777778,
             "#fb9f3a"
            ],
            [
             0.8888888888888888,
             "#fdca26"
            ],
            [
             1,
             "#f0f921"
            ]
           ]
          },
          "colorway": [
           "#636efa",
           "#EF553B",
           "#00cc96",
           "#ab63fa",
           "#FFA15A",
           "#19d3f3",
           "#FF6692",
           "#B6E880",
           "#FF97FF",
           "#FECB52"
          ],
          "font": {
           "color": "#2a3f5f"
          },
          "geo": {
           "bgcolor": "white",
           "lakecolor": "white",
           "landcolor": "#E5ECF6",
           "showlakes": true,
           "showland": true,
           "subunitcolor": "white"
          },
          "hoverlabel": {
           "align": "left"
          },
          "hovermode": "closest",
          "mapbox": {
           "style": "light"
          },
          "paper_bgcolor": "white",
          "plot_bgcolor": "#E5ECF6",
          "polar": {
           "angularaxis": {
            "gridcolor": "white",
            "linecolor": "white",
            "ticks": ""
           },
           "bgcolor": "#E5ECF6",
           "radialaxis": {
            "gridcolor": "white",
            "linecolor": "white",
            "ticks": ""
           }
          },
          "scene": {
           "xaxis": {
            "backgroundcolor": "#E5ECF6",
            "gridcolor": "white",
            "gridwidth": 2,
            "linecolor": "white",
            "showbackground": true,
            "ticks": "",
            "zerolinecolor": "white"
           },
           "yaxis": {
            "backgroundcolor": "#E5ECF6",
            "gridcolor": "white",
            "gridwidth": 2,
            "linecolor": "white",
            "showbackground": true,
            "ticks": "",
            "zerolinecolor": "white"
           },
           "zaxis": {
            "backgroundcolor": "#E5ECF6",
            "gridcolor": "white",
            "gridwidth": 2,
            "linecolor": "white",
            "showbackground": true,
            "ticks": "",
            "zerolinecolor": "white"
           }
          },
          "shapedefaults": {
           "line": {
            "color": "#2a3f5f"
           }
          },
          "ternary": {
           "aaxis": {
            "gridcolor": "white",
            "linecolor": "white",
            "ticks": ""
           },
           "baxis": {
            "gridcolor": "white",
            "linecolor": "white",
            "ticks": ""
           },
           "bgcolor": "#E5ECF6",
           "caxis": {
            "gridcolor": "white",
            "linecolor": "white",
            "ticks": ""
           }
          },
          "title": {
           "x": 0.05
          },
          "xaxis": {
           "automargin": true,
           "gridcolor": "white",
           "linecolor": "white",
           "ticks": "",
           "title": {
            "standoff": 15
           },
           "zerolinecolor": "white",
           "zerolinewidth": 2
          },
          "yaxis": {
           "automargin": true,
           "gridcolor": "white",
           "linecolor": "white",
           "ticks": "",
           "title": {
            "standoff": 15
           },
           "zerolinecolor": "white",
           "zerolinewidth": 2
          }
         }
        },
        "title": {
         "font": {
          "color": "#D9D9D9"
         }
        },
        "xaxis": {
         "gridcolor": "#434343",
         "showgrid": true,
         "tickfont": {
          "color": "#C2C2C2"
         },
         "title": {
          "font": {
           "color": "#D9D9D9"
          },
          "text": ""
         },
         "zerolinecolor": "#666570"
        },
        "yaxis": {
         "gridcolor": "#434343",
         "showgrid": true,
         "tickfont": {
          "color": "#C2C2C2"
         },
         "title": {
          "font": {
           "color": "#D9D9D9"
          },
          "text": ""
         },
         "zerolinecolor": "#666570"
        }
       }
      },
      "text/html": [
       "<div>\n",
       "        \n",
       "        \n",
       "            <div id=\"f8818ece-f541-4310-8f2f-c35785c60df9\" class=\"plotly-graph-div\" style=\"height:525px; width:100%;\"></div>\n",
       "            <script type=\"text/javascript\">\n",
       "                require([\"plotly\"], function(Plotly) {\n",
       "                    window.PLOTLYENV=window.PLOTLYENV || {};\n",
       "                    window.PLOTLYENV.BASE_URL='https://plot.ly';\n",
       "                    \n",
       "                if (document.getElementById(\"f8818ece-f541-4310-8f2f-c35785c60df9\")) {\n",
       "                    Plotly.newPlot(\n",
       "                        'f8818ece-f541-4310-8f2f-c35785c60df9',\n",
       "                        [{\"line\": {\"color\": \"rgba(255, 153, 51, 1.0)\", \"dash\": \"solid\", \"shape\": \"linear\", \"width\": 1.3}, \"mode\": \"lines\", \"name\": \"A\", \"text\": \"\", \"type\": \"scatter\", \"x\": [0, 1, 2, 3, 4, 5, 6, 7, 8, 9, 10, 11, 12, 13, 14, 15, 16, 17, 18, 19, 20, 21, 22, 23, 24, 25, 26, 27, 28, 29, 30, 31, 32, 33, 34, 35, 36, 37, 38, 39, 40, 41, 42, 43, 44, 45, 46, 47, 48, 49, 50, 51, 52, 53, 54, 55, 56, 57, 58, 59, 60, 61, 62, 63, 64, 65, 66, 67, 68, 69, 70, 71, 72, 73, 74, 75, 76, 77, 78, 79, 80, 81, 82, 83, 84, 85, 86, 87, 88, 89, 90, 91, 92, 93, 94, 95, 96, 97, 98, 99], \"y\": [-0.6011099913123015, -0.9061368227135002, -0.622739130629514, -0.5476343014925009, -1.7441232252546275, -1.7695478496495958, -0.1679053760587666, 0.006578299868527192, -0.9175425507089469, -0.9669160172092781, -0.07081216587417276, 1.1122994864540485, -0.41014878551173, 1.0122156581440183, -1.727938944171904, 0.7642778648625298, 0.46609901623107153, 1.0700127161967035, 0.3089565299369573, 1.276352827207012, 0.16229278865804173, 0.3466772796368672, 0.4828178196687212, 0.920439856684899, -0.4562931346302487, 0.615341379977352, -1.8870849916176171, 0.04985612823662639, -0.46331506866868494, 0.9687253963563367, -2.7667726590213713, -0.16754979437809386, -0.15106665950602802, -0.45075544216935176, -0.12442507995282481, -1.81267952152951, 1.4419268659062943, 1.4410269671524987, 0.7148307378995654, 1.5005812415986526, -0.2538856560253225, 0.034358301312154206, 0.5963568405734568, 0.0377084626805706, -0.9592676019587656, -2.7285710765723423, -0.4972412372405736, 0.07766375915856223, 0.20928329097160311, -0.08587334575904976, -1.8530259274446648, -0.37225477538664803, 1.2825503134919753, 2.1898895374266036, -0.6107521099408265, 0.20136696390958303, -0.10844191053316411, -0.5346153604621676, -2.1911210813743125, -1.4846693529633752, -0.4916004958909923, 0.20985812584717076, 0.2370581850538255, -0.5815483861306942, -0.525413034672379, 1.1995063037947686, -0.46702417510910454, -2.48796083733352, 0.32445351165975217, -0.08715568736890261, -0.01781119036754565, -0.16882039758879908, 1.0708419803775542, -1.3002362029091274, -0.7894811128371826, -0.37535642736973107, -0.9981809510522045, 0.04583319961521298, -0.5915943783583036, 0.5176942555359928, -1.6709073744963205, 0.348491653204736, -2.1216570241340147, 0.5392016312048196, 0.06740653559086172, -1.2635223758430463, -1.2097944936355027, 0.207540740285147, 0.08599723946336596, -1.0284194654647787, -0.6644014895212105, -0.5433558520303751, -0.01445283772638302, 0.9452938352595834, -0.9908006089532247, 0.6990937104090416, 1.5034455378824783, -1.3662629382651668, -1.3174107146122642, 0.7212568980193038]}, {\"line\": {\"color\": \"rgba(55, 128, 191, 1.0)\", \"dash\": \"solid\", \"shape\": \"linear\", \"width\": 1.3}, \"mode\": \"lines\", \"name\": \"B\", \"text\": \"\", \"type\": \"scatter\", \"x\": [0, 1, 2, 3, 4, 5, 6, 7, 8, 9, 10, 11, 12, 13, 14, 15, 16, 17, 18, 19, 20, 21, 22, 23, 24, 25, 26, 27, 28, 29, 30, 31, 32, 33, 34, 35, 36, 37, 38, 39, 40, 41, 42, 43, 44, 45, 46, 47, 48, 49, 50, 51, 52, 53, 54, 55, 56, 57, 58, 59, 60, 61, 62, 63, 64, 65, 66, 67, 68, 69, 70, 71, 72, 73, 74, 75, 76, 77, 78, 79, 80, 81, 82, 83, 84, 85, 86, 87, 88, 89, 90, 91, 92, 93, 94, 95, 96, 97, 98, 99], \"y\": [-1.6400440779176249, -1.1566717983452504, 0.47587173489572854, 0.01034082107385275, 0.5520524425138111, -1.6556046424248085, -0.44281471185025967, -0.5298903712704978, 0.3801883239949968, -0.364773169617736, 1.2667886436454368, 1.300481579770993, -0.47828408207701045, -0.7067749377834774, -0.4019675804658203, -0.06670293789876901, 1.607596194237788, 0.06477411103193899, -0.8435271923875569, 0.4732939397369666, 0.8736536165753612, -0.23728699126823105, 0.19974755873972794, 0.20699497566505878, 0.052659275608236064, -0.41746825348455807, 1.8947588940176912, 1.9707255922646414, -1.2514355136607127, 1.3316604765731617, -0.15897564088182448, 1.0829140994883528, -1.1007835888651358, -0.13712543179707623, 0.18836790028749484, 1.4820665470865384, 0.14185666975591696, 0.06765376226767851, -0.845686997220129, 0.6919299021848623, -0.020399968917961423, 0.9091453762824374, -0.9545206031920954, 1.754967487350685, 2.486765624814003, -1.9816037248208525, -1.0075765437503943, -0.054951091218345544, -1.059099808279218, 0.305836614943648, -0.2929698562118602, 1.8841550594663186, -0.9811208068187062, -0.6803616786984858, 0.4694005996998628, -1.1125496231289231, -0.9746005243245078, 1.4663562990615222, -1.2482491210132751, -1.3402047014294416, -0.014122308501327811, -0.16381977845564727, -0.08179404054793828, 0.19674889272632523, -0.01626064510855291, -1.9175350604364156, -0.5927607557816957, 1.004226547491237, -2.308720635492863, 0.20005281893357074, -0.6843557229886793, -0.01280159008429053, -0.029534488419429367, 0.4115653937637577, 1.0190580412314618, -0.8072039254575217, 1.5539235596728163, -1.0556134610377834, 0.3235385904819584, -1.9822662446696504, 1.5992906232388313, 1.7055890498272988, -1.3357080648630286, 0.13735079521852453, -0.6100811048426881, -0.10938954619050453, -0.33388991397572926, -0.5952709548655313, -1.0166372367419907, -0.9808294903633031, -0.710953834569665, 0.9403476222128613, 0.1797080736220253, -0.26901028715883035, 0.6910321569264278, 0.18191433612707977, -0.7014964292372887, 0.8041402921254703, -1.0466512907652479, -1.157682483474176]}, {\"line\": {\"color\": \"rgba(50, 171, 96, 1.0)\", \"dash\": \"solid\", \"shape\": \"linear\", \"width\": 1.3}, \"mode\": \"lines\", \"name\": \"C\", \"text\": \"\", \"type\": \"scatter\", \"x\": [0, 1, 2, 3, 4, 5, 6, 7, 8, 9, 10, 11, 12, 13, 14, 15, 16, 17, 18, 19, 20, 21, 22, 23, 24, 25, 26, 27, 28, 29, 30, 31, 32, 33, 34, 35, 36, 37, 38, 39, 40, 41, 42, 43, 44, 45, 46, 47, 48, 49, 50, 51, 52, 53, 54, 55, 56, 57, 58, 59, 60, 61, 62, 63, 64, 65, 66, 67, 68, 69, 70, 71, 72, 73, 74, 75, 76, 77, 78, 79, 80, 81, 82, 83, 84, 85, 86, 87, 88, 89, 90, 91, 92, 93, 94, 95, 96, 97, 98, 99], \"y\": [-1.634117878546224, -1.2721184709950457, 1.8661606761136482, -0.34639818362089503, 1.48091795022614, 1.5800930740854773, 0.7460872826154493, 1.6227200069305656, 0.031202191203062588, -0.3775100381437675, -1.948418271970715, -0.501515387765138, -0.14214680580798922, 0.502268314564065, -0.49169858463582816, 0.6555250625513114, -1.8934257116561999, 0.16100190048071616, -1.2076552912522773, 1.5581404684608358, 0.20093813506473845, -0.31458575693756485, 1.3867646219887726, 1.1956373981398967, -1.3803287836345233, -0.5382385592170617, -0.16992552654750323, -1.582836329217932, 0.49245367474079804, 0.5154738283872007, 0.5910945576622015, -0.5618094270325754, 0.42175535274898235, 1.142121523418791, -0.3197452524500797, 0.30922006812695985, 0.06338326264444909, 0.20596170231932304, -0.2524466446708707, -0.9065787182640465, 1.586016717604576, 0.22760713674083172, 1.7882922077946597, 0.34793703052630987, -0.25740282423477956, 0.30687868287368825, 1.672014630213277, -0.1495243496535789, 2.4910293583884946, -0.41461380806946124, -0.9485529040564615, -0.5957470074274995, 0.6118724446237783, -0.6407529242817639, -0.19216265579325034, -0.861711025374878, -0.48893851843417135, -0.6195165904074578, 1.0380598916135229, 0.4923455259037159, 0.9883684708400364, 1.6531567737411421, 0.341357328830314, -0.513353918988113, 0.5641745122600343, 1.8752926959794125, -0.32977630784126966, 2.0246756033311835, -0.5568447128196752, 1.6505429169755406, -1.236271690344277, -0.07232252990152534, 0.8998861166588435, -1.0332066390415617, -0.03583713664415597, -1.023845748783684, 1.950658484593939, -0.5987235999965753, 0.20768109528132464, -0.7570970290461405, -0.6758359133665035, 0.7046629579761289, 0.3647097569667476, -0.47480910585152086, -0.2893229913664134, 0.8125649928197166, -0.38841467817814024, -0.5699291240678422, 1.36951599405538, -0.01747690435655196, 0.9564194980577708, -0.9502320616379818, 0.8299897664391195, -2.151829446760187, 0.9285758800326066, -1.0949614214259358, 0.3620051800411064, 0.20469070405629644, -0.23177026763966235, -0.1759037776110075]}],\n",
       "                        {\"legend\": {\"bgcolor\": \"#151516\", \"font\": {\"color\": \"#D9D9D9\"}}, \"paper_bgcolor\": \"#151516\", \"plot_bgcolor\": \"#151516\", \"template\": {\"data\": {\"bar\": [{\"error_x\": {\"color\": \"#2a3f5f\"}, \"error_y\": {\"color\": \"#2a3f5f\"}, \"marker\": {\"line\": {\"color\": \"#E5ECF6\", \"width\": 0.5}}, \"type\": \"bar\"}], \"barpolar\": [{\"marker\": {\"line\": {\"color\": \"#E5ECF6\", \"width\": 0.5}}, \"type\": \"barpolar\"}], \"carpet\": [{\"aaxis\": {\"endlinecolor\": \"#2a3f5f\", \"gridcolor\": \"white\", \"linecolor\": \"white\", \"minorgridcolor\": \"white\", \"startlinecolor\": \"#2a3f5f\"}, \"baxis\": {\"endlinecolor\": \"#2a3f5f\", \"gridcolor\": \"white\", \"linecolor\": \"white\", \"minorgridcolor\": \"white\", \"startlinecolor\": \"#2a3f5f\"}, \"type\": \"carpet\"}], \"choropleth\": [{\"colorbar\": {\"outlinewidth\": 0, \"ticks\": \"\"}, \"type\": \"choropleth\"}], \"contour\": [{\"colorbar\": {\"outlinewidth\": 0, \"ticks\": \"\"}, \"colorscale\": [[0.0, \"#0d0887\"], [0.1111111111111111, \"#46039f\"], [0.2222222222222222, \"#7201a8\"], [0.3333333333333333, \"#9c179e\"], [0.4444444444444444, \"#bd3786\"], [0.5555555555555556, \"#d8576b\"], [0.6666666666666666, \"#ed7953\"], [0.7777777777777778, \"#fb9f3a\"], [0.8888888888888888, \"#fdca26\"], [1.0, \"#f0f921\"]], \"type\": \"contour\"}], \"contourcarpet\": [{\"colorbar\": {\"outlinewidth\": 0, \"ticks\": \"\"}, \"type\": \"contourcarpet\"}], \"heatmap\": [{\"colorbar\": {\"outlinewidth\": 0, \"ticks\": \"\"}, \"colorscale\": [[0.0, \"#0d0887\"], [0.1111111111111111, \"#46039f\"], [0.2222222222222222, \"#7201a8\"], [0.3333333333333333, \"#9c179e\"], [0.4444444444444444, \"#bd3786\"], [0.5555555555555556, \"#d8576b\"], [0.6666666666666666, \"#ed7953\"], [0.7777777777777778, \"#fb9f3a\"], [0.8888888888888888, \"#fdca26\"], [1.0, \"#f0f921\"]], \"type\": \"heatmap\"}], \"heatmapgl\": [{\"colorbar\": {\"outlinewidth\": 0, \"ticks\": \"\"}, \"colorscale\": [[0.0, \"#0d0887\"], [0.1111111111111111, \"#46039f\"], [0.2222222222222222, \"#7201a8\"], [0.3333333333333333, \"#9c179e\"], [0.4444444444444444, \"#bd3786\"], [0.5555555555555556, \"#d8576b\"], [0.6666666666666666, \"#ed7953\"], [0.7777777777777778, \"#fb9f3a\"], [0.8888888888888888, \"#fdca26\"], [1.0, \"#f0f921\"]], \"type\": \"heatmapgl\"}], \"histogram\": [{\"marker\": {\"colorbar\": {\"outlinewidth\": 0, \"ticks\": \"\"}}, \"type\": \"histogram\"}], \"histogram2d\": [{\"colorbar\": {\"outlinewidth\": 0, \"ticks\": \"\"}, \"colorscale\": [[0.0, \"#0d0887\"], [0.1111111111111111, \"#46039f\"], [0.2222222222222222, \"#7201a8\"], [0.3333333333333333, \"#9c179e\"], [0.4444444444444444, \"#bd3786\"], [0.5555555555555556, \"#d8576b\"], [0.6666666666666666, \"#ed7953\"], [0.7777777777777778, \"#fb9f3a\"], [0.8888888888888888, \"#fdca26\"], [1.0, \"#f0f921\"]], \"type\": \"histogram2d\"}], \"histogram2dcontour\": [{\"colorbar\": {\"outlinewidth\": 0, \"ticks\": \"\"}, \"colorscale\": [[0.0, \"#0d0887\"], [0.1111111111111111, \"#46039f\"], [0.2222222222222222, \"#7201a8\"], [0.3333333333333333, \"#9c179e\"], [0.4444444444444444, \"#bd3786\"], [0.5555555555555556, \"#d8576b\"], [0.6666666666666666, \"#ed7953\"], [0.7777777777777778, \"#fb9f3a\"], [0.8888888888888888, \"#fdca26\"], [1.0, \"#f0f921\"]], \"type\": \"histogram2dcontour\"}], \"mesh3d\": [{\"colorbar\": {\"outlinewidth\": 0, \"ticks\": \"\"}, \"type\": \"mesh3d\"}], \"parcoords\": [{\"line\": {\"colorbar\": {\"outlinewidth\": 0, \"ticks\": \"\"}}, \"type\": \"parcoords\"}], \"pie\": [{\"automargin\": true, \"type\": \"pie\"}], \"scatter\": [{\"marker\": {\"colorbar\": {\"outlinewidth\": 0, \"ticks\": \"\"}}, \"type\": \"scatter\"}], \"scatter3d\": [{\"line\": {\"colorbar\": {\"outlinewidth\": 0, \"ticks\": \"\"}}, \"marker\": {\"colorbar\": {\"outlinewidth\": 0, \"ticks\": \"\"}}, \"type\": \"scatter3d\"}], \"scattercarpet\": [{\"marker\": {\"colorbar\": {\"outlinewidth\": 0, \"ticks\": \"\"}}, \"type\": \"scattercarpet\"}], \"scattergeo\": [{\"marker\": {\"colorbar\": {\"outlinewidth\": 0, \"ticks\": \"\"}}, \"type\": \"scattergeo\"}], \"scattergl\": [{\"marker\": {\"colorbar\": {\"outlinewidth\": 0, \"ticks\": \"\"}}, \"type\": \"scattergl\"}], \"scattermapbox\": [{\"marker\": {\"colorbar\": {\"outlinewidth\": 0, \"ticks\": \"\"}}, \"type\": \"scattermapbox\"}], \"scatterpolar\": [{\"marker\": {\"colorbar\": {\"outlinewidth\": 0, \"ticks\": \"\"}}, \"type\": \"scatterpolar\"}], \"scatterpolargl\": [{\"marker\": {\"colorbar\": {\"outlinewidth\": 0, \"ticks\": \"\"}}, \"type\": \"scatterpolargl\"}], \"scatterternary\": [{\"marker\": {\"colorbar\": {\"outlinewidth\": 0, \"ticks\": \"\"}}, \"type\": \"scatterternary\"}], \"surface\": [{\"colorbar\": {\"outlinewidth\": 0, \"ticks\": \"\"}, \"colorscale\": [[0.0, \"#0d0887\"], [0.1111111111111111, \"#46039f\"], [0.2222222222222222, \"#7201a8\"], [0.3333333333333333, \"#9c179e\"], [0.4444444444444444, \"#bd3786\"], [0.5555555555555556, \"#d8576b\"], [0.6666666666666666, \"#ed7953\"], [0.7777777777777778, \"#fb9f3a\"], [0.8888888888888888, \"#fdca26\"], [1.0, \"#f0f921\"]], \"type\": \"surface\"}], \"table\": [{\"cells\": {\"fill\": {\"color\": \"#EBF0F8\"}, \"line\": {\"color\": \"white\"}}, \"header\": {\"fill\": {\"color\": \"#C8D4E3\"}, \"line\": {\"color\": \"white\"}}, \"type\": \"table\"}]}, \"layout\": {\"annotationdefaults\": {\"arrowcolor\": \"#2a3f5f\", \"arrowhead\": 0, \"arrowwidth\": 1}, \"coloraxis\": {\"colorbar\": {\"outlinewidth\": 0, \"ticks\": \"\"}}, \"colorscale\": {\"diverging\": [[0, \"#8e0152\"], [0.1, \"#c51b7d\"], [0.2, \"#de77ae\"], [0.3, \"#f1b6da\"], [0.4, \"#fde0ef\"], [0.5, \"#f7f7f7\"], [0.6, \"#e6f5d0\"], [0.7, \"#b8e186\"], [0.8, \"#7fbc41\"], [0.9, \"#4d9221\"], [1, \"#276419\"]], \"sequential\": [[0.0, \"#0d0887\"], [0.1111111111111111, \"#46039f\"], [0.2222222222222222, \"#7201a8\"], [0.3333333333333333, \"#9c179e\"], [0.4444444444444444, \"#bd3786\"], [0.5555555555555556, \"#d8576b\"], [0.6666666666666666, \"#ed7953\"], [0.7777777777777778, \"#fb9f3a\"], [0.8888888888888888, \"#fdca26\"], [1.0, \"#f0f921\"]], \"sequentialminus\": [[0.0, \"#0d0887\"], [0.1111111111111111, \"#46039f\"], [0.2222222222222222, \"#7201a8\"], [0.3333333333333333, \"#9c179e\"], [0.4444444444444444, \"#bd3786\"], [0.5555555555555556, \"#d8576b\"], [0.6666666666666666, \"#ed7953\"], [0.7777777777777778, \"#fb9f3a\"], [0.8888888888888888, \"#fdca26\"], [1.0, \"#f0f921\"]]}, \"colorway\": [\"#636efa\", \"#EF553B\", \"#00cc96\", \"#ab63fa\", \"#FFA15A\", \"#19d3f3\", \"#FF6692\", \"#B6E880\", \"#FF97FF\", \"#FECB52\"], \"font\": {\"color\": \"#2a3f5f\"}, \"geo\": {\"bgcolor\": \"white\", \"lakecolor\": \"white\", \"landcolor\": \"#E5ECF6\", \"showlakes\": true, \"showland\": true, \"subunitcolor\": \"white\"}, \"hoverlabel\": {\"align\": \"left\"}, \"hovermode\": \"closest\", \"mapbox\": {\"style\": \"light\"}, \"paper_bgcolor\": \"white\", \"plot_bgcolor\": \"#E5ECF6\", \"polar\": {\"angularaxis\": {\"gridcolor\": \"white\", \"linecolor\": \"white\", \"ticks\": \"\"}, \"bgcolor\": \"#E5ECF6\", \"radialaxis\": {\"gridcolor\": \"white\", \"linecolor\": \"white\", \"ticks\": \"\"}}, \"scene\": {\"xaxis\": {\"backgroundcolor\": \"#E5ECF6\", \"gridcolor\": \"white\", \"gridwidth\": 2, \"linecolor\": \"white\", \"showbackground\": true, \"ticks\": \"\", \"zerolinecolor\": \"white\"}, \"yaxis\": {\"backgroundcolor\": \"#E5ECF6\", \"gridcolor\": \"white\", \"gridwidth\": 2, \"linecolor\": \"white\", \"showbackground\": true, \"ticks\": \"\", \"zerolinecolor\": \"white\"}, \"zaxis\": {\"backgroundcolor\": \"#E5ECF6\", \"gridcolor\": \"white\", \"gridwidth\": 2, \"linecolor\": \"white\", \"showbackground\": true, \"ticks\": \"\", \"zerolinecolor\": \"white\"}}, \"shapedefaults\": {\"line\": {\"color\": \"#2a3f5f\"}}, \"ternary\": {\"aaxis\": {\"gridcolor\": \"white\", \"linecolor\": \"white\", \"ticks\": \"\"}, \"baxis\": {\"gridcolor\": \"white\", \"linecolor\": \"white\", \"ticks\": \"\"}, \"bgcolor\": \"#E5ECF6\", \"caxis\": {\"gridcolor\": \"white\", \"linecolor\": \"white\", \"ticks\": \"\"}}, \"title\": {\"x\": 0.05}, \"xaxis\": {\"automargin\": true, \"gridcolor\": \"white\", \"linecolor\": \"white\", \"ticks\": \"\", \"title\": {\"standoff\": 15}, \"zerolinecolor\": \"white\", \"zerolinewidth\": 2}, \"yaxis\": {\"automargin\": true, \"gridcolor\": \"white\", \"linecolor\": \"white\", \"ticks\": \"\", \"title\": {\"standoff\": 15}, \"zerolinecolor\": \"white\", \"zerolinewidth\": 2}}}, \"title\": {\"font\": {\"color\": \"#D9D9D9\"}}, \"xaxis\": {\"gridcolor\": \"#434343\", \"showgrid\": true, \"tickfont\": {\"color\": \"#C2C2C2\"}, \"title\": {\"font\": {\"color\": \"#D9D9D9\"}, \"text\": \"\"}, \"zerolinecolor\": \"#666570\"}, \"yaxis\": {\"gridcolor\": \"#434343\", \"showgrid\": true, \"tickfont\": {\"color\": \"#C2C2C2\"}, \"title\": {\"font\": {\"color\": \"#D9D9D9\"}, \"text\": \"\"}, \"zerolinecolor\": \"#666570\"}},\n",
       "                        {\"responsive\": true, \"plotlyServerURL\": \"https://plot.ly\", \"linkText\": \"Export to plot.ly\", \"showLink\": true}\n",
       "                    ).then(function(){\n",
       "                            \n",
       "var gd = document.getElementById('f8818ece-f541-4310-8f2f-c35785c60df9');\n",
       "var x = new MutationObserver(function (mutations, observer) {{\n",
       "        var display = window.getComputedStyle(gd).display;\n",
       "        if (!display || display === 'none') {{\n",
       "            console.log([gd, 'removed!']);\n",
       "            Plotly.purge(gd);\n",
       "            observer.disconnect();\n",
       "        }}\n",
       "}});\n",
       "\n",
       "// Listen for the removal of the full notebook cells\n",
       "var notebookContainer = gd.closest('#notebook-container');\n",
       "if (notebookContainer) {{\n",
       "    x.observe(notebookContainer, {childList: true});\n",
       "}}\n",
       "\n",
       "// Listen for the clearing of the current output cell\n",
       "var outputEl = gd.closest('.output');\n",
       "if (outputEl) {{\n",
       "    x.observe(outputEl, {childList: true});\n",
       "}}\n",
       "\n",
       "                        })\n",
       "                };\n",
       "                });\n",
       "            </script>\n",
       "        </div>"
      ]
     },
     "metadata": {},
     "output_type": "display_data"
    }
   ],
   "source": [
    "df.iplot()"
   ]
  },
  {
   "cell_type": "code",
   "execution_count": 12,
   "metadata": {},
   "outputs": [],
   "source": [
    "#let see plt owns tyes."
   ]
  },
  {
   "cell_type": "code",
   "execution_count": null,
   "metadata": {},
   "outputs": [
    {
     "data": {
      "text/plain": [
       "[<matplotlib.lines.Line2D at 0x110342e8>,\n",
       " <matplotlib.lines.Line2D at 0x11034390>,\n",
       " <matplotlib.lines.Line2D at 0x11034438>]"
      ]
     },
     "execution_count": 13,
     "metadata": {},
     "output_type": "execute_result"
    },
    {
     "data": {
      "image/png": "[encoded data removed]",
      "text/plain": [
       "<Figure size 432x288 with 1 Axes>"
      ]
     },
     "metadata": {
      "needs_background": "light"
     },
     "output_type": "display_data"
    }
   ],
   "source": [
    "plt.plot(df)"
   ]
  },
  {
   "cell_type": "code",
   "execution_count": null,
   "metadata": {},
   "outputs": [],
   "source": [
    "df.iplot(x='A', y='B')"
   ]
  },
  {
   "cell_type": "code",
   "execution_count": null,
   "metadata": {},
   "outputs": [],
   "source": [
    "df.iplot(x='A', y='B', mode = 'markers')"
   ]
  },
  {
   "cell_type": "code",
   "execution_count": null,
   "metadata": {},
   "outputs": [],
   "source": [
    "df.iplot(x='A', y='B', mode = 'markers', size=25)"
   ]
  },
  {
   "cell_type": "code",
   "execution_count": null,
   "metadata": {},
   "outputs": [],
   "source": [
    "titanic = sns.load_dataset('titanic')"
   ]
  },
  {
   "cell_type": "code",
   "execution_count": null,
   "metadata": {},
   "outputs": [],
   "source": [
    "titanic.head(2)"
   ]
  },
  {
   "cell_type": "code",
   "execution_count": null,
   "metadata": {},
   "outputs": [],
   "source": [
    "titanic.iplot(kind='bar', x='sex', y='survived')"
   ]
  },
  {
   "cell_type": "code",
   "execution_count": null,
   "metadata": {},
   "outputs": [],
   "source": [
    "titanic.iplot(kind='bar', x='sex', y='survived', title='survive', )"
   ]
  },
  {
   "cell_type": "code",
   "execution_count": null,
   "metadata": {},
   "outputs": [],
   "source": [
    "df.iplot(kind='bar')"
   ]
  },
  {
   "cell_type": "code",
   "execution_count": null,
   "metadata": {},
   "outputs": [],
   "source": [
    "df.iplot(kind='bar', bargap=0.2)"
   ]
  },
  {
   "cell_type": "code",
   "execution_count": null,
   "metadata": {},
   "outputs": [],
   "source": [
    "df.iplot(kind='bar', bargap=0.2, barmode='stack')"
   ]
  },
  {
   "cell_type": "code",
   "execution_count": null,
   "metadata": {},
   "outputs": [],
   "source": [
    "cf.getThemes()"
   ]
  },
  {
   "cell_type": "code",
   "execution_count": null,
   "metadata": {},
   "outputs": [],
   "source": [
    "cf.set_config_file(theme='ggplot')\n",
    "df.iplot(kind='bar', bargap=0.2, barmode='stack')"
   ]
  },
  {
   "cell_type": "code",
   "execution_count": null,
   "metadata": {},
   "outputs": [],
   "source": [
    "cf.set_config_file(theme='solar')\n",
    "df.iplot(kind='bar', bargap=0.2, barmode='stack')"
   ]
  },
  {
   "cell_type": "code",
   "execution_count": null,
   "metadata": {},
   "outputs": [],
   "source": [
    "cf.set_config_file(theme='polar')\n",
    "df.iplot(kind='bar', bargap=0.2, barmode='stack')"
   ]
  },
  {
   "cell_type": "code",
   "execution_count": null,
   "metadata": {},
   "outputs": [],
   "source": [
    "cf.set_config_file(theme='white')\n",
    "df.iplot(kind='bar', bargap=0.2, barmode='stack')"
   ]
  },
  {
   "cell_type": "code",
   "execution_count": null,
   "metadata": {},
   "outputs": [],
   "source": [
    "df.iplot(kind='box')"
   ]
  },
  {
   "cell_type": "code",
   "execution_count": null,
   "metadata": {},
   "outputs": [],
   "source": [
    "df.iplot(kind='area')"
   ]
  },
  {
   "cell_type": "code",
   "execution_count": null,
   "metadata": {},
   "outputs": [],
   "source": [
    "df.iplot(kind='area', fill=True)"
   ]
  },
  {
   "cell_type": "code",
   "execution_count": null,
   "metadata": {},
   "outputs": [],
   "source": [
    " "
   ]
  },
  {
   "cell_type": "code",
   "execution_count": null,
   "metadata": {},
   "outputs": [],
   "source": [
    "titanic.iplot(kind='surface')"
   ]
  },
  {
   "cell_type": "code",
   "execution_count": null,
   "metadata": {},
   "outputs": [],
   "source": [
    "titanic.iplot(kind='surface', x='age', y='pclass')"
   ]
  },
  {
   "cell_type": "code",
   "execution_count": null,
   "metadata": {},
   "outputs": [],
   "source": [
    "titanic.head(2)"
   ]
  },
  {
   "cell_type": "code",
   "execution_count": null,
   "metadata": {},
   "outputs": [],
   "source": [
    "titanic.iplot(kind='surface', x='age', y='survived',)"
   ]
  },
  {
   "cell_type": "code",
   "execution_count": null,
   "metadata": {},
   "outputs": [],
   "source": [
    "titanic.iplot(kind='surface', x='deck', y='survived',)"
   ]
  },
  {
   "cell_type": "code",
   "execution_count": null,
   "metadata": {},
   "outputs": [],
   "source": [
    "cf.datagen.sinwave(10, 0.25).iplot(kind='surface')"
   ]
  },
  {
   "cell_type": "code",
   "execution_count": null,
   "metadata": {},
   "outputs": [],
   "source": [
    "cf.datagen.sinwave(30, 0.30).iplot(kind='surface')"
   ]
  },
  {
   "cell_type": "code",
   "execution_count": null,
   "metadata": {},
   "outputs": [],
   "source": [
    "cf.datagen.scatter3d(2, 350, mode='stocks')"
   ]
  },
  {
   "cell_type": "code",
   "execution_count": null,
   "metadata": {},
   "outputs": [],
   "source": [
    "cf.datagen.scatter3d(2, 350, mode='stocks').iplot(kind='scatter3d', x='x', y='y', z='z')"
   ]
  },
  {
   "cell_type": "code",
   "execution_count": null,
   "metadata": {},
   "outputs": [],
   "source": [
    "df.iplot(kind='scatter3d', x='A', y='B', z='C')"
   ]
  },
  {
   "cell_type": "code",
   "execution_count": null,
   "metadata": {},
   "outputs": [],
   "source": [
    "df.iplot(kind='hist', bins=25, barmode='group', bargap=0.5)"
   ]
  },
  {
   "cell_type": "code",
   "execution_count": null,
   "metadata": {},
   "outputs": [],
   "source": [
    "titanic.iplot(kind='hist', bins=25, barmode='group', bargap=0.5)"
   ]
  },
  {
   "cell_type": "code",
   "execution_count": null,
   "metadata": {},
   "outputs": [],
   "source": [
    "titanic.iplot(kind='hist', bins=25, barmode='group', bargap=0.5)"
   ]
  },
  {
   "cell_type": "code",
   "execution_count": null,
   "metadata": {},
   "outputs": [],
   "source": []
  },
  {
   "cell_type": "code",
   "execution_count": null,
   "metadata": {},
   "outputs": [],
   "source": []
  },
  {
   "cell_type": "code",
   "execution_count": null,
   "metadata": {},
   "outputs": [],
   "source": []
  },
  {
   "cell_type": "code",
   "execution_count": null,
   "metadata": {},
   "outputs": [],
   "source": []
  },
  {
   "cell_type": "code",
   "execution_count": null,
   "metadata": {},
   "outputs": [],
   "source": []
  },
  {
   "cell_type": "code",
   "execution_count": null,
   "metadata": {},
   "outputs": [],
   "source": []
  },
  {
   "cell_type": "code",
   "execution_count": null,
   "metadata": {},
   "outputs": [],
   "source": []
  },
  {
   "cell_type": "code",
   "execution_count": null,
   "metadata": {},
   "outputs": [],
   "source": []
  },
  {
   "cell_type": "code",
   "execution_count": null,
   "metadata": {},
   "outputs": [],
   "source": []
  },
  {
   "cell_type": "code",
   "execution_count": null,
   "metadata": {},
   "outputs": [],
   "source": []
  }
 ],
 "metadata": {
  "kernelspec": {
   "display_name": "Python 3",
   "language": "python",
   "name": "python3"
  },
  "language_info": {
   "codemirror_mode": {
    "name": "ipython",
    "version": 2
   },
   "file_extension": ".py",
   "mimetype": "text/x-python",
   "name": "python",
   "nbconvert_exporter": "python",
   "pygments_lexer": "ipython2",
   "version": "2.7.16"
  }
 },
 "nbformat": 4,
 "nbformat_minor": 2
}
